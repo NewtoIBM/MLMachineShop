{
  "nbformat": 4,
  "nbformat_minor": 0,
  "metadata": {
    "kernelspec": {
      "display_name": "Python 3",
      "language": "python",
      "name": "python3"
    },
    "language_info": {
      "codemirror_mode": {
        "name": "ipython",
        "version": 3
      },
      "file_extension": ".py",
      "mimetype": "text/x-python",
      "name": "python",
      "nbconvert_exporter": "python",
      "pygments_lexer": "ipython3",
      "version": "3.6.10"
    },
    "colab": {
      "name": "PersonalProjectMLMachineShop.ipynb",
      "provenance": [],
      "collapsed_sections": [
        "psnL9dfn0UY4"
      ]
    }
  },
  "cells": [
    {
      "cell_type": "markdown",
      "metadata": {
        "id": "hzlToYv50UYK"
      },
      "source": [
        "# Time Series Analysis"
      ]
    },
    {
      "cell_type": "markdown",
      "metadata": {
        "id": "4HKyyD_V0UYU"
      },
      "source": [
        "<img src=\"photo.jpg\" style=\"width:100%;height:450px\"/>"
      ]
    },
    {
      "cell_type": "markdown",
      "metadata": {
        "id": "VBauTuL00UYV"
      },
      "source": [
        "# Machine Learning, Deep Learning forecasting technique for machine operators."
      ]
    },
    {
      "cell_type": "markdown",
      "metadata": {
        "id": "UI3gXk9u0UYW"
      },
      "source": [
        "Objective: Machinery world: Shops, Production, Machines, Operators. Machines vs Operators. Operators vs Managers. **How to answer the question when will  a machine will finish the order?** Machine operators use common sense calculating in mind  using experience as historical data to predict time when a machine is done. But how accurate are they? How to convince and verify their answer? Did they calculated accurately? They will  not even answer these type of questions for minutes. It will take all day. How will they calculate the process and future time in an hour, day, month scale? The Solution is Machine Learning, Deep Learning. There are algorithms that already can do this job for this problem:ARIMA, LSTM, even Facebook Prophet which Facebook developed for this purpose. I introduced techologies. Methodology is Time Series.Time Series forecasting  answer business questions like how much inventory to maintain, how much website traffic do you expect in your e-store to how many product will be sold in the next month.\n",
        "This project is an attempt to simulate  a situation in a real world manufacturing company  with close to real data and to extract a conclusion from the experiment: what future size and what future time of a size as a computing a cutrate of a product size. \n",
        "\n",
        "The dataset is engineered for simplicity of the experiment as simple and meaningful as  possible to provide sufficiant  information for the algorithm to compute its forecast and ready to use without data wrangling.\n"
      ]
    },
    {
      "cell_type": "markdown",
      "metadata": {
        "id": "msssYvT30UYX"
      },
      "source": [
        "# ARIMA Approach"
      ]
    },
    {
      "cell_type": "code",
      "metadata": {
        "id": "g9KoFQF70UYY"
      },
      "source": [
        "import numpy as np\n",
        "import pandas as pd\n",
        "import seaborn as sns\n",
        "import matplotlib as plt"
      ],
      "execution_count": 1,
      "outputs": []
    },
    {
      "cell_type": "code",
      "metadata": {
        "scrolled": true,
        "colab": {
          "base_uri": "https://localhost:8080/",
          "height": 566
        },
        "id": "0ps6LaYn0UYZ",
        "outputId": "5461c6c5-f2e5-4dbc-895b-f48451aeef8c"
      },
      "source": [
        "# Import Train and Test Data \n",
        "from google.colab import drive\n",
        "drive.mount(\"/content/gdrive/\")\n",
        "datafile = pd.read_csv('MLMachines.csv')\n",
        "#datafile = pd.read_excel('MLMachinesShop.xlsx')\n",
        "#columns = ['Basic_Size','Gr','Target_Pull_Size']\n",
        "chart = pd.DataFrame(datafile)\n",
        "chart"
      ],
      "execution_count": 5,
      "outputs": [
        {
          "output_type": "stream",
          "text": [
            "Drive already mounted at /content/gdrive/; to attempt to forcibly remount, call drive.mount(\"/content/gdrive/\", force_remount=True).\n"
          ],
          "name": "stdout"
        },
        {
          "output_type": "execute_result",
          "data": {
            "text/html": [
              "<div>\n",
              "<style scoped>\n",
              "    .dataframe tbody tr th:only-of-type {\n",
              "        vertical-align: middle;\n",
              "    }\n",
              "\n",
              "    .dataframe tbody tr th {\n",
              "        vertical-align: top;\n",
              "    }\n",
              "\n",
              "    .dataframe thead th {\n",
              "        text-align: right;\n",
              "    }\n",
              "</style>\n",
              "<table border=\"1\" class=\"dataframe\">\n",
              "  <thead>\n",
              "    <tr style=\"text-align: right;\">\n",
              "      <th></th>\n",
              "      <th>Basic_Size</th>\n",
              "      <th>Start_Size</th>\n",
              "      <th>size2</th>\n",
              "      <th>size3</th>\n",
              "      <th>size4</th>\n",
              "      <th>Time</th>\n",
              "      <th>Gr</th>\n",
              "      <th>Target_Pull_Size</th>\n",
              "    </tr>\n",
              "  </thead>\n",
              "  <tbody>\n",
              "    <tr>\n",
              "      <th>0</th>\n",
              "      <td>3/16</td>\n",
              "      <td>0.00100</td>\n",
              "      <td>0.00090</td>\n",
              "      <td>0.00080</td>\n",
              "      <td>0.00070</td>\n",
              "      <td>2021-01-01</td>\n",
              "      <td>10</td>\n",
              "      <td>0.0001</td>\n",
              "    </tr>\n",
              "    <tr>\n",
              "      <th>1</th>\n",
              "      <td>5/32</td>\n",
              "      <td>0.00060</td>\n",
              "      <td>0.00085</td>\n",
              "      <td>0.00070</td>\n",
              "      <td>0.00030</td>\n",
              "      <td>2021-01-02</td>\n",
              "      <td>25</td>\n",
              "      <td>0.0000</td>\n",
              "    </tr>\n",
              "    <tr>\n",
              "      <th>2</th>\n",
              "      <td>5/16</td>\n",
              "      <td>0.00090</td>\n",
              "      <td>0.00080</td>\n",
              "      <td>0.00060</td>\n",
              "      <td>0.00030</td>\n",
              "      <td>2021-01-03</td>\n",
              "      <td>10</td>\n",
              "      <td>-0.0001</td>\n",
              "    </tr>\n",
              "    <tr>\n",
              "      <th>3</th>\n",
              "      <td>11/32</td>\n",
              "      <td>0.01200</td>\n",
              "      <td>0.00080</td>\n",
              "      <td>0.00060</td>\n",
              "      <td>0.00030</td>\n",
              "      <td>2021-01-04</td>\n",
              "      <td>25</td>\n",
              "      <td>0.0000</td>\n",
              "    </tr>\n",
              "    <tr>\n",
              "      <th>4</th>\n",
              "      <td>5/8</td>\n",
              "      <td>0.01195</td>\n",
              "      <td>0.00070</td>\n",
              "      <td>0.00050</td>\n",
              "      <td>0.00020</td>\n",
              "      <td>2021-01-05</td>\n",
              "      <td>24</td>\n",
              "      <td>0.0000</td>\n",
              "    </tr>\n",
              "    <tr>\n",
              "      <th>5</th>\n",
              "      <td>3/8</td>\n",
              "      <td>0.01528</td>\n",
              "      <td>0.00070</td>\n",
              "      <td>0.00046</td>\n",
              "      <td>0.00011</td>\n",
              "      <td>2021-01-06</td>\n",
              "      <td>10</td>\n",
              "      <td>0.0000</td>\n",
              "    </tr>\n",
              "    <tr>\n",
              "      <th>6</th>\n",
              "      <td>13/32</td>\n",
              "      <td>0.01861</td>\n",
              "      <td>0.00060</td>\n",
              "      <td>0.00042</td>\n",
              "      <td>0.00002</td>\n",
              "      <td>2021-01-07</td>\n",
              "      <td>25</td>\n",
              "      <td>0.0000</td>\n",
              "    </tr>\n",
              "    <tr>\n",
              "      <th>7</th>\n",
              "      <td>3/16</td>\n",
              "      <td>0.02194</td>\n",
              "      <td>0.00060</td>\n",
              "      <td>0.00038</td>\n",
              "      <td>-0.00007</td>\n",
              "      <td>2021-01-08</td>\n",
              "      <td>25</td>\n",
              "      <td>0.0005</td>\n",
              "    </tr>\n",
              "    <tr>\n",
              "      <th>8</th>\n",
              "      <td>5/32</td>\n",
              "      <td>0.02527</td>\n",
              "      <td>0.00050</td>\n",
              "      <td>0.00034</td>\n",
              "      <td>-0.00016</td>\n",
              "      <td>2021-01-09</td>\n",
              "      <td>25</td>\n",
              "      <td>-0.0005</td>\n",
              "    </tr>\n",
              "    <tr>\n",
              "      <th>9</th>\n",
              "      <td>5/16</td>\n",
              "      <td>0.02860</td>\n",
              "      <td>0.00050</td>\n",
              "      <td>0.00030</td>\n",
              "      <td>-0.00025</td>\n",
              "      <td>2021-01-10</td>\n",
              "      <td>25</td>\n",
              "      <td>0.0000</td>\n",
              "    </tr>\n",
              "  </tbody>\n",
              "</table>\n",
              "</div>"
            ],
            "text/plain": [
              "  Basic_Size  Start_Size    size2  ...        Time  Gr Target_Pull_Size\n",
              "0       3/16     0.00100  0.00090  ...  2021-01-01  10           0.0001\n",
              "1       5/32     0.00060  0.00085  ...  2021-01-02  25           0.0000\n",
              "2       5/16     0.00090  0.00080  ...  2021-01-03  10          -0.0001\n",
              "3      11/32     0.01200  0.00080  ...  2021-01-04  25           0.0000\n",
              "4        5/8     0.01195  0.00070  ...  2021-01-05  24           0.0000\n",
              "5        3/8     0.01528  0.00070  ...  2021-01-06  10           0.0000\n",
              "6      13/32     0.01861  0.00060  ...  2021-01-07  25           0.0000\n",
              "7       3/16     0.02194  0.00060  ...  2021-01-08  25           0.0005\n",
              "8       5/32     0.02527  0.00050  ...  2021-01-09  25          -0.0005\n",
              "9       5/16     0.02860  0.00050  ...  2021-01-10  25           0.0000\n",
              "\n",
              "[10 rows x 8 columns]"
            ]
          },
          "metadata": {
            "tags": []
          },
          "execution_count": 5
        }
      ]
    },
    {
      "cell_type": "markdown",
      "metadata": {
        "id": "PcN7viLHA41u"
      },
      "source": [
        "This dataset  is made of features  that are used  as regressors to find a taget feature future value. Basic size- size of an item in fractions. Start_size - size of an item at what it was before processing. Size_2,Size_3,Size_4  represent  machine number in which this item is processing. Time feature is day by day  representation.  Time and size features are correlated. Gr feature is a grade of an item by its quality. Target_Pull_Size is just a desired finish size for customer. It does not correlate to forcasting, it will compare only if an item is oversized or undersized at the moment of prediction"
      ]
    },
    {
      "cell_type": "markdown",
      "metadata": {
        "id": "rEE5eYPs0UYd"
      },
      "source": [
        "### Preparing the dataset for Time Series"
      ]
    },
    {
      "cell_type": "code",
      "metadata": {
        "id": "3w5SRPfj0UYe"
      },
      "source": [
        "from datetime import datetime\n",
        "chart['Time']=pd.to_datetime(chart['Time'])"
      ],
      "execution_count": 6,
      "outputs": []
    },
    {
      "cell_type": "code",
      "metadata": {
        "id": "vb77Xwxm0UYf"
      },
      "source": [
        "date_time = chart['Time']"
      ],
      "execution_count": 7,
      "outputs": []
    },
    {
      "cell_type": "markdown",
      "metadata": {
        "id": "p2Hg3O480UYf"
      },
      "source": [
        "### Time Series by Components"
      ]
    },
    {
      "cell_type": "code",
      "metadata": {
        "colab": {
          "base_uri": "https://localhost:8080/",
          "height": 289
        },
        "id": "A4mjzWdv0UYf",
        "outputId": "dc872124-79ac-41c5-c785-b3a6c9afcfcf"
      },
      "source": [
        "plot_cols = ['size4', 'size3','size2']\n",
        "plot_features = chart[plot_cols]\n",
        "plot_features.index = date_time\n",
        "_ = plot_features.plot(subplots=True)\n",
        "\n"
      ],
      "execution_count": 8,
      "outputs": [
        {
          "output_type": "display_data",
          "data": {
            "image/png": "[encoded data removed]",
            "text/plain": [
              "<Figure size 432x288 with 3 Axes>"
            ]
          },
          "metadata": {
            "tags": [],
            "needs_background": "light"
          }
        }
      ]
    },
    {
      "cell_type": "code",
      "metadata": {
        "colab": {
          "base_uri": "https://localhost:8080/",
          "height": 235
        },
        "id": "h35QW5FO0UYg",
        "outputId": "a6f0cb4a-2f4e-40bc-9eb7-784d034d27ae"
      },
      "source": [
        "tb=chart.set_index(['Time'])\n",
        "tb.head()"
      ],
      "execution_count": 9,
      "outputs": [
        {
          "output_type": "execute_result",
          "data": {
            "text/html": [
              "<div>\n",
              "<style scoped>\n",
              "    .dataframe tbody tr th:only-of-type {\n",
              "        vertical-align: middle;\n",
              "    }\n",
              "\n",
              "    .dataframe tbody tr th {\n",
              "        vertical-align: top;\n",
              "    }\n",
              "\n",
              "    .dataframe thead th {\n",
              "        text-align: right;\n",
              "    }\n",
              "</style>\n",
              "<table border=\"1\" class=\"dataframe\">\n",
              "  <thead>\n",
              "    <tr style=\"text-align: right;\">\n",
              "      <th></th>\n",
              "      <th>Basic_Size</th>\n",
              "      <th>Start_Size</th>\n",
              "      <th>size2</th>\n",
              "      <th>size3</th>\n",
              "      <th>size4</th>\n",
              "      <th>Gr</th>\n",
              "      <th>Target_Pull_Size</th>\n",
              "    </tr>\n",
              "    <tr>\n",
              "      <th>Time</th>\n",
              "      <th></th>\n",
              "      <th></th>\n",
              "      <th></th>\n",
              "      <th></th>\n",
              "      <th></th>\n",
              "      <th></th>\n",
              "      <th></th>\n",
              "    </tr>\n",
              "  </thead>\n",
              "  <tbody>\n",
              "    <tr>\n",
              "      <th>2021-01-01</th>\n",
              "      <td>3/16</td>\n",
              "      <td>0.00100</td>\n",
              "      <td>0.00090</td>\n",
              "      <td>0.0008</td>\n",
              "      <td>0.0007</td>\n",
              "      <td>10</td>\n",
              "      <td>0.0001</td>\n",
              "    </tr>\n",
              "    <tr>\n",
              "      <th>2021-01-02</th>\n",
              "      <td>5/32</td>\n",
              "      <td>0.00060</td>\n",
              "      <td>0.00085</td>\n",
              "      <td>0.0007</td>\n",
              "      <td>0.0003</td>\n",
              "      <td>25</td>\n",
              "      <td>0.0000</td>\n",
              "    </tr>\n",
              "    <tr>\n",
              "      <th>2021-01-03</th>\n",
              "      <td>5/16</td>\n",
              "      <td>0.00090</td>\n",
              "      <td>0.00080</td>\n",
              "      <td>0.0006</td>\n",
              "      <td>0.0003</td>\n",
              "      <td>10</td>\n",
              "      <td>-0.0001</td>\n",
              "    </tr>\n",
              "    <tr>\n",
              "      <th>2021-01-04</th>\n",
              "      <td>11/32</td>\n",
              "      <td>0.01200</td>\n",
              "      <td>0.00080</td>\n",
              "      <td>0.0006</td>\n",
              "      <td>0.0003</td>\n",
              "      <td>25</td>\n",
              "      <td>0.0000</td>\n",
              "    </tr>\n",
              "    <tr>\n",
              "      <th>2021-01-05</th>\n",
              "      <td>5/8</td>\n",
              "      <td>0.01195</td>\n",
              "      <td>0.00070</td>\n",
              "      <td>0.0005</td>\n",
              "      <td>0.0002</td>\n",
              "      <td>24</td>\n",
              "      <td>0.0000</td>\n",
              "    </tr>\n",
              "  </tbody>\n",
              "</table>\n",
              "</div>"
            ],
            "text/plain": [
              "           Basic_Size  Start_Size    size2  ...   size4  Gr  Target_Pull_Size\n",
              "Time                                        ...                              \n",
              "2021-01-01       3/16     0.00100  0.00090  ...  0.0007  10            0.0001\n",
              "2021-01-02       5/32     0.00060  0.00085  ...  0.0003  25            0.0000\n",
              "2021-01-03       5/16     0.00090  0.00080  ...  0.0003  10           -0.0001\n",
              "2021-01-04      11/32     0.01200  0.00080  ...  0.0003  25            0.0000\n",
              "2021-01-05        5/8     0.01195  0.00070  ...  0.0002  24            0.0000\n",
              "\n",
              "[5 rows x 7 columns]"
            ]
          },
          "metadata": {
            "tags": []
          },
          "execution_count": 9
        }
      ]
    },
    {
      "cell_type": "markdown",
      "metadata": {
        "id": "zG3Tv3dX0UYh"
      },
      "source": [
        "#### X  and Y regressors and predictors."
      ]
    },
    {
      "cell_type": "code",
      "metadata": {
        "id": "NrtfHL1m0UYh"
      },
      "source": [
        "#x and y axes input data\n",
        "y = tb['size4']\n",
        "x =  tb.drop(['size4'], axis = 1)"
      ],
      "execution_count": 10,
      "outputs": []
    },
    {
      "cell_type": "code",
      "metadata": {
        "id": "Vp09xk-90UYh"
      },
      "source": [
        ""
      ],
      "execution_count": 7,
      "outputs": []
    },
    {
      "cell_type": "markdown",
      "metadata": {
        "id": "wR_M88lE0UYi"
      },
      "source": [
        "Peeking at how  Y data  trend behaves"
      ]
    },
    {
      "cell_type": "code",
      "metadata": {
        "colab": {
          "base_uri": "https://localhost:8080/",
          "height": 320
        },
        "id": "YkKJ-6_80UYi",
        "outputId": "d46e13ae-6ff9-4102-d11b-c6480f6d6f0c"
      },
      "source": [
        "y.plot()"
      ],
      "execution_count": 11,
      "outputs": [
        {
          "output_type": "execute_result",
          "data": {
            "text/plain": [
              "<matplotlib.axes._subplots.AxesSubplot at 0x7f9e6cc80590>"
            ]
          },
          "metadata": {
            "tags": []
          },
          "execution_count": 11
        },
        {
          "output_type": "display_data",
          "data": {
            "image/png": "[encoded data removed]",
            "text/plain": [
              "<Figure size 432x288 with 1 Axes>"
            ]
          },
          "metadata": {
            "tags": [],
            "needs_background": "light"
          }
        }
      ]
    },
    {
      "cell_type": "markdown",
      "metadata": {
        "id": "znyB5UvY0UYi"
      },
      "source": [
        "When doing time series analysis we always have to check for stationarity. Imprecisely, a time series dataset is stationary just if its statistical features don't change over time. A little more precisely, a stationary time series dataset will have constant mean, variance, and covariance.\n",
        "\n",
        "There are many ways to test for stationarity, but one of the most common is the KPSS test. The Null hypothesis of this test is that the time series data in question is stationary; hence, if the p-value is less than the significance level (typically 0.05, but we decide) then we reject the Null and infer that the data is not stationary"
      ]
    },
    {
      "cell_type": "code",
      "metadata": {
        "colab": {
          "base_uri": "https://localhost:8080/",
          "height": 235
        },
        "id": "ZAZYhkvr0UYj",
        "outputId": "41eb30d9-8abc-4b80-fcd4-b7ca7d4dbefc"
      },
      "source": [
        "from statsmodels.tsa.stattools import kpss\n",
        "kpss(y, nlags='legacy')"
      ],
      "execution_count": 12,
      "outputs": [
        {
          "output_type": "stream",
          "text": [
            "/usr/local/lib/python3.7/dist-packages/statsmodels/tools/_testing.py:19: FutureWarning: pandas.util.testing is deprecated. Use the functions in the public API at pandas.testing instead.\n",
            "  import pandas.util.testing as tm\n"
          ],
          "name": "stderr"
        },
        {
          "output_type": "error",
          "ename": "TypeError",
          "evalue": "ignored",
          "traceback": [
            "\u001b[0;31m---------------------------------------------------------------------------\u001b[0m",
            "\u001b[0;31mTypeError\u001b[0m                                 Traceback (most recent call last)",
            "\u001b[0;32m<ipython-input-12-f717fee227f3>\u001b[0m in \u001b[0;36m<module>\u001b[0;34m()\u001b[0m\n\u001b[1;32m      1\u001b[0m \u001b[0;32mfrom\u001b[0m \u001b[0mstatsmodels\u001b[0m\u001b[0;34m.\u001b[0m\u001b[0mtsa\u001b[0m\u001b[0;34m.\u001b[0m\u001b[0mstattools\u001b[0m \u001b[0;32mimport\u001b[0m \u001b[0mkpss\u001b[0m\u001b[0;34m\u001b[0m\u001b[0;34m\u001b[0m\u001b[0m\n\u001b[0;32m----> 2\u001b[0;31m \u001b[0mkpss\u001b[0m\u001b[0;34m(\u001b[0m\u001b[0my\u001b[0m\u001b[0;34m,\u001b[0m \u001b[0mnlags\u001b[0m\u001b[0;34m=\u001b[0m\u001b[0;34m'legacy'\u001b[0m\u001b[0;34m)\u001b[0m\u001b[0;34m\u001b[0m\u001b[0;34m\u001b[0m\u001b[0m\n\u001b[0m",
            "\u001b[0;31mTypeError\u001b[0m: kpss() got an unexpected keyword argument 'nlags'"
          ]
        }
      ]
    },
    {
      "cell_type": "markdown",
      "metadata": {
        "id": "cqbTCa7t0UYj"
      },
      "source": [
        "Our p-value is now greater than 0.05, so we can accept the null hypothesis that our data is stationary."
      ]
    },
    {
      "cell_type": "code",
      "metadata": {
        "id": "ux5FfuDP0UYj"
      },
      "source": [
        "#preprocessing \n",
        "from sklearn.preprocessing import OneHotEncoder\n",
        "traindfcat = x.select_dtypes(include ='object') \n",
        "enc = OneHotEncoder(sparse=False)\n",
        "X_transfCat = enc.fit_transform(traindfcat)"
      ],
      "execution_count": 13,
      "outputs": []
    },
    {
      "cell_type": "markdown",
      "metadata": {
        "id": "p_jfDRe-0UYk"
      },
      "source": [
        "### The ARIMA model"
      ]
    },
    {
      "cell_type": "markdown",
      "metadata": {
        "id": "MX1dC3H80UYk"
      },
      "source": [
        "ARIMA models are based around the idea that it's possible to predict the next value in a time series by using information about the most recent data points. It also assumes there will be some randomness in our data that can't ever be predicted.\n",
        "\n",
        "We can find some good parameters for our model using the sklearn and statsmodels libraries, and in particular mean_squared_error and ARIMA."
      ]
    },
    {
      "cell_type": "code",
      "metadata": {
        "id": "nuuSxUgs0UYk"
      },
      "source": [
        "# Import mean_squared_error and ARIMA\n",
        "from sklearn.metrics import mean_squared_error\n",
        "from statsmodels.tsa.arima_model import ARIMA"
      ],
      "execution_count": 14,
      "outputs": []
    },
    {
      "cell_type": "markdown",
      "metadata": {
        "id": "WXj8ay-k0UYk"
      },
      "source": [
        "Make a function to find the MSE of a single ARIMA model¶"
      ]
    },
    {
      "cell_type": "code",
      "metadata": {
        "id": "kRqiJ8_P0UYl"
      },
      "source": [
        "# Make a function called evaluate_arima_model to find the MSE of a single ARIMA model \n",
        "def evaluate_arima_model(data, arima_order):\n",
        "    # Needs to be an integer because it is later used as an index.\n",
        "    # Use int()\n",
        "    split=int(len(data) * 0.8) \n",
        "    # Make train and test variables, with 'train, test'\n",
        "    train, test = data[0:split], data[split:len(data)]\n",
        "    past=[x for x in train]\n",
        "    # make predictions\n",
        "    predictions = list()\n",
        "    for i in range(len(test)):#timestep-wise comparison between test data and one-step prediction ARIMA model. \n",
        "        model = ARIMA(past, order=arima_order)\n",
        "        model_fit = model.fit(disp=0)\n",
        "        future = model_fit.forecast()[0]\n",
        "        predictions.append(future)\n",
        "        past.append(test[i])\n",
        "    # calculate out of sample error\n",
        "    error = mean_squared_error(test, predictions)\n",
        "    # Return the error\n",
        "    return error"
      ],
      "execution_count": 15,
      "outputs": []
    },
    {
      "cell_type": "markdown",
      "metadata": {
        "id": "8ih2iK3_0UYm"
      },
      "source": [
        "Make a function to evaluate the different ARIMA models with different p, d, and q values"
      ]
    },
    {
      "cell_type": "code",
      "metadata": {
        "id": "yZcAMQmf0UYm"
      },
      "source": [
        "# Make a function called evaluate_models to evaluate different ARIMA models with several different p, d, and q values.\n",
        "def evaluate_models(dataset, p_values, d_values, q_values):\n",
        "    best_score, best_cfg = float(\"inf\"), None\n",
        "    # Iterate through p_values\n",
        "    for p in p_values:\n",
        "        # Iterate through d_values\n",
        "        for d in d_values:\n",
        "            # Iterate through q_values\n",
        "            for q in q_values:\n",
        "                # p, d, q iterator variables in that order\n",
        "                order = (p,d,q)\n",
        "                try:\n",
        "                    # Make a variable called mse for the Mean squared error\n",
        "                    mse = evaluate_arima_model(dataset, order)\n",
        "                    if mse < best_score:\n",
        "                        best_score, best_cfg = mse, order\n",
        "                    print('ARIMA%s MSE=%.3f' % (order,mse))\n",
        "                except:\n",
        "                    continue\n",
        "    return print('Best ARIMA%s MSE=%.3f' % (best_cfg, best_score))"
      ],
      "execution_count": 16,
      "outputs": []
    },
    {
      "cell_type": "code",
      "metadata": {
        "id": "yhgBjGTH0UYm"
      },
      "source": [
        "# Now, we choose a couple of values to try for each parameter: p_values, d_values and q_values\n",
        "# Fill in the blanks as appropriate\n",
        "p_values = [x for x in range(0, 3)]\n",
        "d_values = [x for x in range(0, 3)]\n",
        "q_values = [x for x in range(0, 3)]"
      ],
      "execution_count": 17,
      "outputs": []
    },
    {
      "cell_type": "code",
      "metadata": {
        "colab": {
          "base_uri": "https://localhost:8080/"
        },
        "id": "DjlqVcBg0UYm",
        "outputId": "9f71b1c6-1dfb-44d6-82db-b406099d7e05"
      },
      "source": [
        "# Finally, we can find the optimum ARIMA model for our data.\n",
        "# Nb. this can take a while...!\n",
        "import warnings\n",
        "warnings.filterwarnings(\"ignore\")\n",
        "evaluate_models(y, p_values, d_values, q_values)"
      ],
      "execution_count": 18,
      "outputs": [
        {
          "output_type": "stream",
          "text": [
            "ARIMA(0, 0, 0) MSE=0.000\n",
            "ARIMA(0, 0, 1) MSE=0.000\n",
            "ARIMA(0, 0, 2) MSE=0.000\n",
            "ARIMA(0, 1, 0) MSE=0.000\n",
            "ARIMA(0, 1, 1) MSE=0.000\n",
            "ARIMA(0, 1, 2) MSE=0.000\n",
            "ARIMA(0, 2, 0) MSE=0.000\n",
            "ARIMA(0, 2, 1) MSE=0.000\n",
            "ARIMA(0, 2, 2) MSE=0.000\n",
            "ARIMA(1, 0, 0) MSE=0.000\n",
            "ARIMA(1, 1, 0) MSE=0.000\n",
            "ARIMA(1, 2, 0) MSE=0.000\n",
            "ARIMA(2, 0, 0) MSE=0.000\n",
            "ARIMA(2, 1, 0) MSE=0.000\n",
            "ARIMA(2, 2, 0) MSE=0.000\n",
            "ARIMA(2, 2, 1) MSE=0.000\n",
            "Best ARIMA(0, 1, 1) MSE=0.000\n"
          ],
          "name": "stdout"
        }
      ]
    },
    {
      "cell_type": "code",
      "metadata": {
        "id": "ztWGvDD70UYn"
      },
      "source": [
        "p=0\n",
        "d=1\n",
        "q=1\n",
        "model = ARIMA(y, order=(p,d,q))\n",
        "model_fit = model.fit()\n",
        "forecast = model_fit.forecast(48)"
      ],
      "execution_count": 19,
      "outputs": []
    },
    {
      "cell_type": "code",
      "metadata": {
        "colab": {
          "base_uri": "https://localhost:8080/",
          "height": 309
        },
        "id": "NcnRZ_4E0UYn",
        "outputId": "e2659252-3f27-4065-ceac-bb2d8e2ccb88"
      },
      "source": [
        "model_fit.summary()"
      ],
      "execution_count": 20,
      "outputs": [
        {
          "output_type": "execute_result",
          "data": {
            "text/html": [
              "<table class=\"simpletable\">\n",
              "<caption>ARIMA Model Results</caption>\n",
              "<tr>\n",
              "  <th>Dep. Variable:</th>      <td>D.size4</td>     <th>  No. Observations:  </th>     <td>9</td>   \n",
              "</tr>\n",
              "<tr>\n",
              "  <th>Model:</th>          <td>ARIMA(0, 1, 1)</td>  <th>  Log Likelihood     </th>  <td>70.123</td> \n",
              "</tr>\n",
              "<tr>\n",
              "  <th>Method:</th>             <td>css-mle</td>     <th>  S.D. of innovations</th>   <td>0.000</td> \n",
              "</tr>\n",
              "<tr>\n",
              "  <th>Date:</th>          <td>Sat, 27 Feb 2021</td> <th>  AIC                </th> <td>-134.245</td>\n",
              "</tr>\n",
              "<tr>\n",
              "  <th>Time:</th>              <td>22:29:58</td>     <th>  BIC                </th> <td>-133.654</td>\n",
              "</tr>\n",
              "<tr>\n",
              "  <th>Sample:</th>           <td>01-02-2021</td>    <th>  HQIC               </th> <td>-135.522</td>\n",
              "</tr>\n",
              "<tr>\n",
              "  <th></th>                 <td>- 01-10-2021</td>   <th>                     </th>     <td> </td>   \n",
              "</tr>\n",
              "</table>\n",
              "<table class=\"simpletable\">\n",
              "<tr>\n",
              "        <td></td>           <th>coef</th>     <th>std err</th>      <th>z</th>      <th>P>|z|</th>  <th>[0.025</th>    <th>0.975]</th>  \n",
              "</tr>\n",
              "<tr>\n",
              "  <th>const</th>         <td>-9.387e-05</td> <td> 1.24e-05</td> <td>   -7.584</td> <td> 0.000</td> <td>   -0.000</td> <td>-6.96e-05</td>\n",
              "</tr>\n",
              "<tr>\n",
              "  <th>ma.L1.D.size4</th> <td>   -0.4387</td> <td>      nan</td> <td>      nan</td> <td>   nan</td> <td>      nan</td> <td>      nan</td>\n",
              "</tr>\n",
              "</table>\n",
              "<table class=\"simpletable\">\n",
              "<caption>Roots</caption>\n",
              "<tr>\n",
              "    <td></td>   <th>            Real</th>  <th>         Imaginary</th> <th>         Modulus</th>  <th>        Frequency</th>\n",
              "</tr>\n",
              "<tr>\n",
              "  <th>MA.1</th> <td>           2.2797</td> <td>          +0.0000j</td> <td>           2.2797</td> <td>           0.0000</td>\n",
              "</tr>\n",
              "</table>"
            ],
            "text/plain": [
              "<class 'statsmodels.iolib.summary.Summary'>\n",
              "\"\"\"\n",
              "                             ARIMA Model Results                              \n",
              "==============================================================================\n",
              "Dep. Variable:                D.size4   No. Observations:                    9\n",
              "Model:                 ARIMA(0, 1, 1)   Log Likelihood                  70.123\n",
              "Method:                       css-mle   S.D. of innovations              0.000\n",
              "Date:                Sat, 27 Feb 2021   AIC                           -134.245\n",
              "Time:                        22:29:58   BIC                           -133.654\n",
              "Sample:                    01-02-2021   HQIC                          -135.522\n",
              "                         - 01-10-2021                                         \n",
              "=================================================================================\n",
              "                    coef    std err          z      P>|z|      [0.025      0.975]\n",
              "---------------------------------------------------------------------------------\n",
              "const         -9.387e-05   1.24e-05     -7.584      0.000      -0.000   -6.96e-05\n",
              "ma.L1.D.size4    -0.4387        nan        nan        nan         nan         nan\n",
              "                                    Roots                                    \n",
              "=============================================================================\n",
              "                  Real          Imaginary           Modulus         Frequency\n",
              "-----------------------------------------------------------------------------\n",
              "MA.1            2.2797           +0.0000j            2.2797            0.0000\n",
              "-----------------------------------------------------------------------------\n",
              "\"\"\""
            ]
          },
          "metadata": {
            "tags": []
          },
          "execution_count": 20
        }
      ]
    },
    {
      "cell_type": "code",
      "metadata": {
        "colab": {
          "base_uri": "https://localhost:8080/",
          "height": 222
        },
        "id": "BEOqqLtt0UYn",
        "outputId": "4fbf681c-37cb-415a-db48-7f1220178bbc"
      },
      "source": [
        "import matplotlib as plt\n",
        "\n",
        "from matplotlib import *\n",
        "import sys\n",
        "import pylab as pl\n",
        "pl.figure( figsize =(17,5) )\n",
        "pl.plot(y.diff())\n",
        "pl.plot(model_fit.predict(),color='red')"
      ],
      "execution_count": 21,
      "outputs": [
        {
          "output_type": "execute_result",
          "data": {
            "text/plain": [
              "[<matplotlib.lines.Line2D at 0x7f9e60ea0710>]"
            ]
          },
          "metadata": {
            "tags": []
          },
          "execution_count": 21
        },
        {
          "output_type": "display_data",
          "data": {
            "image/png": "[encoded data removed]",
            "text/plain": [
              "<Figure size 1224x360 with 1 Axes>"
            ]
          },
          "metadata": {
            "tags": [],
            "needs_background": "light"
          }
        }
      ]
    },
    {
      "cell_type": "markdown",
      "metadata": {
        "id": "N1AI2ApD0UYo"
      },
      "source": [
        "Model fits pretty closely to our actual data. "
      ]
    },
    {
      "cell_type": "markdown",
      "metadata": {
        "id": "U_5oWznO0UYp"
      },
      "source": [
        "#### Application: Forecasting"
      ]
    },
    {
      "cell_type": "code",
      "metadata": {
        "colab": {
          "base_uri": "https://localhost:8080/",
          "height": 1000
        },
        "id": "634VO1gv0UYp",
        "outputId": "c2862957-887d-43d0-af9e-ee64ab287697"
      },
      "source": [
        "# Declare a variable called forecast_period with the amount of months to forecast, and\n",
        "# create a range of future dates that is the length of the periods you've chosen to forecast\n",
        "forecast_period = 48\n",
        "date_range = pd.date_range(y.index[-1], periods = forecast_period, \n",
        "              freq='8H').strftime(\"%Y-%m-%d\").tolist()\n",
        "\n",
        "# Convert that range into a dataframe that includes your predictions\n",
        "\n",
        "future_months = pd.DataFrame(date_range, columns = ['Hour'])\n",
        "future_months['Hour'] = pd.to_datetime(future_months['Hour'])\n",
        "future_months.set_index('Hour', inplace = True)\n",
        "future_months['Prediction'] = forecast[0]\n",
        "yforecast = y.append(future_months['Prediction'])\n",
        "yforecast\n",
        "y_hats  = pd.DataFrame({'A' : yforecast})\n",
        "y_hats \n"
      ],
      "execution_count": 24,
      "outputs": [
        {
          "output_type": "execute_result",
          "data": {
            "text/html": [
              "<div>\n",
              "<style scoped>\n",
              "    .dataframe tbody tr th:only-of-type {\n",
              "        vertical-align: middle;\n",
              "    }\n",
              "\n",
              "    .dataframe tbody tr th {\n",
              "        vertical-align: top;\n",
              "    }\n",
              "\n",
              "    .dataframe thead th {\n",
              "        text-align: right;\n",
              "    }\n",
              "</style>\n",
              "<table border=\"1\" class=\"dataframe\">\n",
              "  <thead>\n",
              "    <tr style=\"text-align: right;\">\n",
              "      <th></th>\n",
              "      <th>A</th>\n",
              "    </tr>\n",
              "  </thead>\n",
              "  <tbody>\n",
              "    <tr>\n",
              "      <th>2021-01-01</th>\n",
              "      <td>0.000700</td>\n",
              "    </tr>\n",
              "    <tr>\n",
              "      <th>2021-01-02</th>\n",
              "      <td>0.000300</td>\n",
              "    </tr>\n",
              "    <tr>\n",
              "      <th>2021-01-03</th>\n",
              "      <td>0.000300</td>\n",
              "    </tr>\n",
              "    <tr>\n",
              "      <th>2021-01-04</th>\n",
              "      <td>0.000300</td>\n",
              "    </tr>\n",
              "    <tr>\n",
              "      <th>2021-01-05</th>\n",
              "      <td>0.000200</td>\n",
              "    </tr>\n",
              "    <tr>\n",
              "      <th>2021-01-06</th>\n",
              "      <td>0.000110</td>\n",
              "    </tr>\n",
              "    <tr>\n",
              "      <th>2021-01-07</th>\n",
              "      <td>0.000020</td>\n",
              "    </tr>\n",
              "    <tr>\n",
              "      <th>2021-01-08</th>\n",
              "      <td>-0.000070</td>\n",
              "    </tr>\n",
              "    <tr>\n",
              "      <th>2021-01-09</th>\n",
              "      <td>-0.000160</td>\n",
              "    </tr>\n",
              "    <tr>\n",
              "      <th>2021-01-10</th>\n",
              "      <td>-0.000250</td>\n",
              "    </tr>\n",
              "    <tr>\n",
              "      <th>2021-01-10</th>\n",
              "      <td>-0.000347</td>\n",
              "    </tr>\n",
              "    <tr>\n",
              "      <th>2021-01-10</th>\n",
              "      <td>-0.000441</td>\n",
              "    </tr>\n",
              "    <tr>\n",
              "      <th>2021-01-10</th>\n",
              "      <td>-0.000535</td>\n",
              "    </tr>\n",
              "    <tr>\n",
              "      <th>2021-01-11</th>\n",
              "      <td>-0.000629</td>\n",
              "    </tr>\n",
              "    <tr>\n",
              "      <th>2021-01-11</th>\n",
              "      <td>-0.000723</td>\n",
              "    </tr>\n",
              "    <tr>\n",
              "      <th>2021-01-11</th>\n",
              "      <td>-0.000816</td>\n",
              "    </tr>\n",
              "    <tr>\n",
              "      <th>2021-01-12</th>\n",
              "      <td>-0.000910</td>\n",
              "    </tr>\n",
              "    <tr>\n",
              "      <th>2021-01-12</th>\n",
              "      <td>-0.001004</td>\n",
              "    </tr>\n",
              "    <tr>\n",
              "      <th>2021-01-12</th>\n",
              "      <td>-0.001098</td>\n",
              "    </tr>\n",
              "    <tr>\n",
              "      <th>2021-01-13</th>\n",
              "      <td>-0.001192</td>\n",
              "    </tr>\n",
              "    <tr>\n",
              "      <th>2021-01-13</th>\n",
              "      <td>-0.001286</td>\n",
              "    </tr>\n",
              "    <tr>\n",
              "      <th>2021-01-13</th>\n",
              "      <td>-0.001380</td>\n",
              "    </tr>\n",
              "    <tr>\n",
              "      <th>2021-01-14</th>\n",
              "      <td>-0.001473</td>\n",
              "    </tr>\n",
              "    <tr>\n",
              "      <th>2021-01-14</th>\n",
              "      <td>-0.001567</td>\n",
              "    </tr>\n",
              "    <tr>\n",
              "      <th>2021-01-14</th>\n",
              "      <td>-0.001661</td>\n",
              "    </tr>\n",
              "    <tr>\n",
              "      <th>2021-01-15</th>\n",
              "      <td>-0.001755</td>\n",
              "    </tr>\n",
              "    <tr>\n",
              "      <th>2021-01-15</th>\n",
              "      <td>-0.001849</td>\n",
              "    </tr>\n",
              "    <tr>\n",
              "      <th>2021-01-15</th>\n",
              "      <td>-0.001943</td>\n",
              "    </tr>\n",
              "    <tr>\n",
              "      <th>2021-01-16</th>\n",
              "      <td>-0.002037</td>\n",
              "    </tr>\n",
              "    <tr>\n",
              "      <th>2021-01-16</th>\n",
              "      <td>-0.002131</td>\n",
              "    </tr>\n",
              "    <tr>\n",
              "      <th>2021-01-16</th>\n",
              "      <td>-0.002224</td>\n",
              "    </tr>\n",
              "    <tr>\n",
              "      <th>2021-01-17</th>\n",
              "      <td>-0.002318</td>\n",
              "    </tr>\n",
              "    <tr>\n",
              "      <th>2021-01-17</th>\n",
              "      <td>-0.002412</td>\n",
              "    </tr>\n",
              "    <tr>\n",
              "      <th>2021-01-17</th>\n",
              "      <td>-0.002506</td>\n",
              "    </tr>\n",
              "    <tr>\n",
              "      <th>2021-01-18</th>\n",
              "      <td>-0.002600</td>\n",
              "    </tr>\n",
              "    <tr>\n",
              "      <th>2021-01-18</th>\n",
              "      <td>-0.002694</td>\n",
              "    </tr>\n",
              "    <tr>\n",
              "      <th>2021-01-18</th>\n",
              "      <td>-0.002788</td>\n",
              "    </tr>\n",
              "    <tr>\n",
              "      <th>2021-01-19</th>\n",
              "      <td>-0.002882</td>\n",
              "    </tr>\n",
              "    <tr>\n",
              "      <th>2021-01-19</th>\n",
              "      <td>-0.002975</td>\n",
              "    </tr>\n",
              "    <tr>\n",
              "      <th>2021-01-19</th>\n",
              "      <td>-0.003069</td>\n",
              "    </tr>\n",
              "    <tr>\n",
              "      <th>2021-01-20</th>\n",
              "      <td>-0.003163</td>\n",
              "    </tr>\n",
              "    <tr>\n",
              "      <th>2021-01-20</th>\n",
              "      <td>-0.003257</td>\n",
              "    </tr>\n",
              "    <tr>\n",
              "      <th>2021-01-20</th>\n",
              "      <td>-0.003351</td>\n",
              "    </tr>\n",
              "    <tr>\n",
              "      <th>2021-01-21</th>\n",
              "      <td>-0.003445</td>\n",
              "    </tr>\n",
              "    <tr>\n",
              "      <th>2021-01-21</th>\n",
              "      <td>-0.003539</td>\n",
              "    </tr>\n",
              "    <tr>\n",
              "      <th>2021-01-21</th>\n",
              "      <td>-0.003632</td>\n",
              "    </tr>\n",
              "    <tr>\n",
              "      <th>2021-01-22</th>\n",
              "      <td>-0.003726</td>\n",
              "    </tr>\n",
              "    <tr>\n",
              "      <th>2021-01-22</th>\n",
              "      <td>-0.003820</td>\n",
              "    </tr>\n",
              "    <tr>\n",
              "      <th>2021-01-22</th>\n",
              "      <td>-0.003914</td>\n",
              "    </tr>\n",
              "    <tr>\n",
              "      <th>2021-01-23</th>\n",
              "      <td>-0.004008</td>\n",
              "    </tr>\n",
              "    <tr>\n",
              "      <th>2021-01-23</th>\n",
              "      <td>-0.004102</td>\n",
              "    </tr>\n",
              "    <tr>\n",
              "      <th>2021-01-23</th>\n",
              "      <td>-0.004196</td>\n",
              "    </tr>\n",
              "    <tr>\n",
              "      <th>2021-01-24</th>\n",
              "      <td>-0.004290</td>\n",
              "    </tr>\n",
              "    <tr>\n",
              "      <th>2021-01-24</th>\n",
              "      <td>-0.004383</td>\n",
              "    </tr>\n",
              "    <tr>\n",
              "      <th>2021-01-24</th>\n",
              "      <td>-0.004477</td>\n",
              "    </tr>\n",
              "    <tr>\n",
              "      <th>2021-01-25</th>\n",
              "      <td>-0.004571</td>\n",
              "    </tr>\n",
              "    <tr>\n",
              "      <th>2021-01-25</th>\n",
              "      <td>-0.004665</td>\n",
              "    </tr>\n",
              "    <tr>\n",
              "      <th>2021-01-25</th>\n",
              "      <td>-0.004759</td>\n",
              "    </tr>\n",
              "  </tbody>\n",
              "</table>\n",
              "</div>"
            ],
            "text/plain": [
              "                   A\n",
              "2021-01-01  0.000700\n",
              "2021-01-02  0.000300\n",
              "2021-01-03  0.000300\n",
              "2021-01-04  0.000300\n",
              "2021-01-05  0.000200\n",
              "2021-01-06  0.000110\n",
              "2021-01-07  0.000020\n",
              "2021-01-08 -0.000070\n",
              "2021-01-09 -0.000160\n",
              "2021-01-10 -0.000250\n",
              "2021-01-10 -0.000347\n",
              "2021-01-10 -0.000441\n",
              "2021-01-10 -0.000535\n",
              "2021-01-11 -0.000629\n",
              "2021-01-11 -0.000723\n",
              "2021-01-11 -0.000816\n",
              "2021-01-12 -0.000910\n",
              "2021-01-12 -0.001004\n",
              "2021-01-12 -0.001098\n",
              "2021-01-13 -0.001192\n",
              "2021-01-13 -0.001286\n",
              "2021-01-13 -0.001380\n",
              "2021-01-14 -0.001473\n",
              "2021-01-14 -0.001567\n",
              "2021-01-14 -0.001661\n",
              "2021-01-15 -0.001755\n",
              "2021-01-15 -0.001849\n",
              "2021-01-15 -0.001943\n",
              "2021-01-16 -0.002037\n",
              "2021-01-16 -0.002131\n",
              "2021-01-16 -0.002224\n",
              "2021-01-17 -0.002318\n",
              "2021-01-17 -0.002412\n",
              "2021-01-17 -0.002506\n",
              "2021-01-18 -0.002600\n",
              "2021-01-18 -0.002694\n",
              "2021-01-18 -0.002788\n",
              "2021-01-19 -0.002882\n",
              "2021-01-19 -0.002975\n",
              "2021-01-19 -0.003069\n",
              "2021-01-20 -0.003163\n",
              "2021-01-20 -0.003257\n",
              "2021-01-20 -0.003351\n",
              "2021-01-21 -0.003445\n",
              "2021-01-21 -0.003539\n",
              "2021-01-21 -0.003632\n",
              "2021-01-22 -0.003726\n",
              "2021-01-22 -0.003820\n",
              "2021-01-22 -0.003914\n",
              "2021-01-23 -0.004008\n",
              "2021-01-23 -0.004102\n",
              "2021-01-23 -0.004196\n",
              "2021-01-24 -0.004290\n",
              "2021-01-24 -0.004383\n",
              "2021-01-24 -0.004477\n",
              "2021-01-25 -0.004571\n",
              "2021-01-25 -0.004665\n",
              "2021-01-25 -0.004759"
            ]
          },
          "metadata": {
            "tags": []
          },
          "execution_count": 24
        }
      ]
    },
    {
      "cell_type": "code",
      "metadata": {
        "colab": {
          "base_uri": "https://localhost:8080/",
          "height": 164
        },
        "id": "veNXg4Vl0UYq",
        "outputId": "8aa7eb7b-ff9d-4c92-c221-5cb51636701a"
      },
      "source": [
        "y_hats.reset_index(inplace=True)\n"
      ],
      "execution_count": 22,
      "outputs": [
        {
          "output_type": "error",
          "ename": "NameError",
          "evalue": "ignored",
          "traceback": [
            "\u001b[0;31m---------------------------------------------------------------------------\u001b[0m",
            "\u001b[0;31mNameError\u001b[0m                                 Traceback (most recent call last)",
            "\u001b[0;32m<ipython-input-22-ad06a6758edc>\u001b[0m in \u001b[0;36m<module>\u001b[0;34m()\u001b[0m\n\u001b[0;32m----> 1\u001b[0;31m \u001b[0my_hats\u001b[0m\u001b[0;34m.\u001b[0m\u001b[0mreset_index\u001b[0m\u001b[0;34m(\u001b[0m\u001b[0minplace\u001b[0m\u001b[0;34m=\u001b[0m\u001b[0;32mTrue\u001b[0m\u001b[0;34m)\u001b[0m\u001b[0;34m\u001b[0m\u001b[0;34m\u001b[0m\u001b[0m\n\u001b[0m",
            "\u001b[0;31mNameError\u001b[0m: name 'y_hats' is not defined"
          ]
        }
      ]
    },
    {
      "cell_type": "code",
      "metadata": {
        "colab": {
          "base_uri": "https://localhost:8080/",
          "height": 1000
        },
        "id": "Sk1Y6oPW0UYr",
        "outputId": "11660883-3eae-4ca3-8bee-9362533d44cb"
      },
      "source": [
        "y_hats"
      ],
      "execution_count": 37,
      "outputs": [
        {
          "output_type": "execute_result",
          "data": {
            "text/html": [
              "<div>\n",
              "<style scoped>\n",
              "    .dataframe tbody tr th:only-of-type {\n",
              "        vertical-align: middle;\n",
              "    }\n",
              "\n",
              "    .dataframe tbody tr th {\n",
              "        vertical-align: top;\n",
              "    }\n",
              "\n",
              "    .dataframe thead th {\n",
              "        text-align: right;\n",
              "    }\n",
              "</style>\n",
              "<table border=\"1\" class=\"dataframe\">\n",
              "  <thead>\n",
              "    <tr style=\"text-align: right;\">\n",
              "      <th></th>\n",
              "      <th>index</th>\n",
              "      <th>A</th>\n",
              "    </tr>\n",
              "  </thead>\n",
              "  <tbody>\n",
              "    <tr>\n",
              "      <th>0</th>\n",
              "      <td>2021-01-01</td>\n",
              "      <td>0.000700</td>\n",
              "    </tr>\n",
              "    <tr>\n",
              "      <th>1</th>\n",
              "      <td>2021-01-02</td>\n",
              "      <td>0.000300</td>\n",
              "    </tr>\n",
              "    <tr>\n",
              "      <th>2</th>\n",
              "      <td>2021-01-03</td>\n",
              "      <td>0.000300</td>\n",
              "    </tr>\n",
              "    <tr>\n",
              "      <th>3</th>\n",
              "      <td>2021-01-04</td>\n",
              "      <td>0.000300</td>\n",
              "    </tr>\n",
              "    <tr>\n",
              "      <th>4</th>\n",
              "      <td>2021-01-05</td>\n",
              "      <td>0.000200</td>\n",
              "    </tr>\n",
              "    <tr>\n",
              "      <th>5</th>\n",
              "      <td>2021-01-06</td>\n",
              "      <td>0.000110</td>\n",
              "    </tr>\n",
              "    <tr>\n",
              "      <th>6</th>\n",
              "      <td>2021-01-07</td>\n",
              "      <td>0.000020</td>\n",
              "    </tr>\n",
              "    <tr>\n",
              "      <th>7</th>\n",
              "      <td>2021-01-08</td>\n",
              "      <td>-0.000070</td>\n",
              "    </tr>\n",
              "    <tr>\n",
              "      <th>8</th>\n",
              "      <td>2021-01-09</td>\n",
              "      <td>-0.000160</td>\n",
              "    </tr>\n",
              "    <tr>\n",
              "      <th>9</th>\n",
              "      <td>2021-01-10</td>\n",
              "      <td>-0.000250</td>\n",
              "    </tr>\n",
              "    <tr>\n",
              "      <th>10</th>\n",
              "      <td>2021-01-10</td>\n",
              "      <td>-0.000347</td>\n",
              "    </tr>\n",
              "    <tr>\n",
              "      <th>11</th>\n",
              "      <td>2021-01-10</td>\n",
              "      <td>-0.000441</td>\n",
              "    </tr>\n",
              "    <tr>\n",
              "      <th>12</th>\n",
              "      <td>2021-01-10</td>\n",
              "      <td>-0.000535</td>\n",
              "    </tr>\n",
              "    <tr>\n",
              "      <th>13</th>\n",
              "      <td>2021-01-11</td>\n",
              "      <td>-0.000629</td>\n",
              "    </tr>\n",
              "    <tr>\n",
              "      <th>14</th>\n",
              "      <td>2021-01-11</td>\n",
              "      <td>-0.000723</td>\n",
              "    </tr>\n",
              "    <tr>\n",
              "      <th>15</th>\n",
              "      <td>2021-01-11</td>\n",
              "      <td>-0.000816</td>\n",
              "    </tr>\n",
              "    <tr>\n",
              "      <th>16</th>\n",
              "      <td>2021-01-12</td>\n",
              "      <td>-0.000910</td>\n",
              "    </tr>\n",
              "    <tr>\n",
              "      <th>17</th>\n",
              "      <td>2021-01-12</td>\n",
              "      <td>-0.001004</td>\n",
              "    </tr>\n",
              "    <tr>\n",
              "      <th>18</th>\n",
              "      <td>2021-01-12</td>\n",
              "      <td>-0.001098</td>\n",
              "    </tr>\n",
              "    <tr>\n",
              "      <th>19</th>\n",
              "      <td>2021-01-13</td>\n",
              "      <td>-0.001192</td>\n",
              "    </tr>\n",
              "    <tr>\n",
              "      <th>20</th>\n",
              "      <td>2021-01-13</td>\n",
              "      <td>-0.001286</td>\n",
              "    </tr>\n",
              "    <tr>\n",
              "      <th>21</th>\n",
              "      <td>2021-01-13</td>\n",
              "      <td>-0.001380</td>\n",
              "    </tr>\n",
              "    <tr>\n",
              "      <th>22</th>\n",
              "      <td>2021-01-14</td>\n",
              "      <td>-0.001473</td>\n",
              "    </tr>\n",
              "    <tr>\n",
              "      <th>23</th>\n",
              "      <td>2021-01-14</td>\n",
              "      <td>-0.001567</td>\n",
              "    </tr>\n",
              "    <tr>\n",
              "      <th>24</th>\n",
              "      <td>2021-01-14</td>\n",
              "      <td>-0.001661</td>\n",
              "    </tr>\n",
              "    <tr>\n",
              "      <th>25</th>\n",
              "      <td>2021-01-15</td>\n",
              "      <td>-0.001755</td>\n",
              "    </tr>\n",
              "    <tr>\n",
              "      <th>26</th>\n",
              "      <td>2021-01-15</td>\n",
              "      <td>-0.001849</td>\n",
              "    </tr>\n",
              "    <tr>\n",
              "      <th>27</th>\n",
              "      <td>2021-01-15</td>\n",
              "      <td>-0.001943</td>\n",
              "    </tr>\n",
              "    <tr>\n",
              "      <th>28</th>\n",
              "      <td>2021-01-16</td>\n",
              "      <td>-0.002037</td>\n",
              "    </tr>\n",
              "    <tr>\n",
              "      <th>29</th>\n",
              "      <td>2021-01-16</td>\n",
              "      <td>-0.002131</td>\n",
              "    </tr>\n",
              "    <tr>\n",
              "      <th>30</th>\n",
              "      <td>2021-01-16</td>\n",
              "      <td>-0.002224</td>\n",
              "    </tr>\n",
              "    <tr>\n",
              "      <th>31</th>\n",
              "      <td>2021-01-17</td>\n",
              "      <td>-0.002318</td>\n",
              "    </tr>\n",
              "    <tr>\n",
              "      <th>32</th>\n",
              "      <td>2021-01-17</td>\n",
              "      <td>-0.002412</td>\n",
              "    </tr>\n",
              "    <tr>\n",
              "      <th>33</th>\n",
              "      <td>2021-01-17</td>\n",
              "      <td>-0.002506</td>\n",
              "    </tr>\n",
              "    <tr>\n",
              "      <th>34</th>\n",
              "      <td>2021-01-18</td>\n",
              "      <td>-0.002600</td>\n",
              "    </tr>\n",
              "    <tr>\n",
              "      <th>35</th>\n",
              "      <td>2021-01-18</td>\n",
              "      <td>-0.002694</td>\n",
              "    </tr>\n",
              "    <tr>\n",
              "      <th>36</th>\n",
              "      <td>2021-01-18</td>\n",
              "      <td>-0.002788</td>\n",
              "    </tr>\n",
              "    <tr>\n",
              "      <th>37</th>\n",
              "      <td>2021-01-19</td>\n",
              "      <td>-0.002882</td>\n",
              "    </tr>\n",
              "    <tr>\n",
              "      <th>38</th>\n",
              "      <td>2021-01-19</td>\n",
              "      <td>-0.002975</td>\n",
              "    </tr>\n",
              "    <tr>\n",
              "      <th>39</th>\n",
              "      <td>2021-01-19</td>\n",
              "      <td>-0.003069</td>\n",
              "    </tr>\n",
              "    <tr>\n",
              "      <th>40</th>\n",
              "      <td>2021-01-20</td>\n",
              "      <td>-0.003163</td>\n",
              "    </tr>\n",
              "    <tr>\n",
              "      <th>41</th>\n",
              "      <td>2021-01-20</td>\n",
              "      <td>-0.003257</td>\n",
              "    </tr>\n",
              "    <tr>\n",
              "      <th>42</th>\n",
              "      <td>2021-01-20</td>\n",
              "      <td>-0.003351</td>\n",
              "    </tr>\n",
              "    <tr>\n",
              "      <th>43</th>\n",
              "      <td>2021-01-21</td>\n",
              "      <td>-0.003445</td>\n",
              "    </tr>\n",
              "    <tr>\n",
              "      <th>44</th>\n",
              "      <td>2021-01-21</td>\n",
              "      <td>-0.003539</td>\n",
              "    </tr>\n",
              "    <tr>\n",
              "      <th>45</th>\n",
              "      <td>2021-01-21</td>\n",
              "      <td>-0.003632</td>\n",
              "    </tr>\n",
              "    <tr>\n",
              "      <th>46</th>\n",
              "      <td>2021-01-22</td>\n",
              "      <td>-0.003726</td>\n",
              "    </tr>\n",
              "    <tr>\n",
              "      <th>47</th>\n",
              "      <td>2021-01-22</td>\n",
              "      <td>-0.003820</td>\n",
              "    </tr>\n",
              "    <tr>\n",
              "      <th>48</th>\n",
              "      <td>2021-01-22</td>\n",
              "      <td>-0.003914</td>\n",
              "    </tr>\n",
              "    <tr>\n",
              "      <th>49</th>\n",
              "      <td>2021-01-23</td>\n",
              "      <td>-0.004008</td>\n",
              "    </tr>\n",
              "    <tr>\n",
              "      <th>50</th>\n",
              "      <td>2021-01-23</td>\n",
              "      <td>-0.004102</td>\n",
              "    </tr>\n",
              "    <tr>\n",
              "      <th>51</th>\n",
              "      <td>2021-01-23</td>\n",
              "      <td>-0.004196</td>\n",
              "    </tr>\n",
              "    <tr>\n",
              "      <th>52</th>\n",
              "      <td>2021-01-24</td>\n",
              "      <td>-0.004290</td>\n",
              "    </tr>\n",
              "    <tr>\n",
              "      <th>53</th>\n",
              "      <td>2021-01-24</td>\n",
              "      <td>-0.004383</td>\n",
              "    </tr>\n",
              "    <tr>\n",
              "      <th>54</th>\n",
              "      <td>2021-01-24</td>\n",
              "      <td>-0.004477</td>\n",
              "    </tr>\n",
              "    <tr>\n",
              "      <th>55</th>\n",
              "      <td>2021-01-25</td>\n",
              "      <td>-0.004571</td>\n",
              "    </tr>\n",
              "    <tr>\n",
              "      <th>56</th>\n",
              "      <td>2021-01-25</td>\n",
              "      <td>-0.004665</td>\n",
              "    </tr>\n",
              "    <tr>\n",
              "      <th>57</th>\n",
              "      <td>2021-01-25</td>\n",
              "      <td>-0.004759</td>\n",
              "    </tr>\n",
              "  </tbody>\n",
              "</table>\n",
              "</div>"
            ],
            "text/plain": [
              "        index         A\n",
              "0  2021-01-01  0.000700\n",
              "1  2021-01-02  0.000300\n",
              "2  2021-01-03  0.000300\n",
              "3  2021-01-04  0.000300\n",
              "4  2021-01-05  0.000200\n",
              "5  2021-01-06  0.000110\n",
              "6  2021-01-07  0.000020\n",
              "7  2021-01-08 -0.000070\n",
              "8  2021-01-09 -0.000160\n",
              "9  2021-01-10 -0.000250\n",
              "10 2021-01-10 -0.000347\n",
              "11 2021-01-10 -0.000441\n",
              "12 2021-01-10 -0.000535\n",
              "13 2021-01-11 -0.000629\n",
              "14 2021-01-11 -0.000723\n",
              "15 2021-01-11 -0.000816\n",
              "16 2021-01-12 -0.000910\n",
              "17 2021-01-12 -0.001004\n",
              "18 2021-01-12 -0.001098\n",
              "19 2021-01-13 -0.001192\n",
              "20 2021-01-13 -0.001286\n",
              "21 2021-01-13 -0.001380\n",
              "22 2021-01-14 -0.001473\n",
              "23 2021-01-14 -0.001567\n",
              "24 2021-01-14 -0.001661\n",
              "25 2021-01-15 -0.001755\n",
              "26 2021-01-15 -0.001849\n",
              "27 2021-01-15 -0.001943\n",
              "28 2021-01-16 -0.002037\n",
              "29 2021-01-16 -0.002131\n",
              "30 2021-01-16 -0.002224\n",
              "31 2021-01-17 -0.002318\n",
              "32 2021-01-17 -0.002412\n",
              "33 2021-01-17 -0.002506\n",
              "34 2021-01-18 -0.002600\n",
              "35 2021-01-18 -0.002694\n",
              "36 2021-01-18 -0.002788\n",
              "37 2021-01-19 -0.002882\n",
              "38 2021-01-19 -0.002975\n",
              "39 2021-01-19 -0.003069\n",
              "40 2021-01-20 -0.003163\n",
              "41 2021-01-20 -0.003257\n",
              "42 2021-01-20 -0.003351\n",
              "43 2021-01-21 -0.003445\n",
              "44 2021-01-21 -0.003539\n",
              "45 2021-01-21 -0.003632\n",
              "46 2021-01-22 -0.003726\n",
              "47 2021-01-22 -0.003820\n",
              "48 2021-01-22 -0.003914\n",
              "49 2021-01-23 -0.004008\n",
              "50 2021-01-23 -0.004102\n",
              "51 2021-01-23 -0.004196\n",
              "52 2021-01-24 -0.004290\n",
              "53 2021-01-24 -0.004383\n",
              "54 2021-01-24 -0.004477\n",
              "55 2021-01-25 -0.004571\n",
              "56 2021-01-25 -0.004665\n",
              "57 2021-01-25 -0.004759"
            ]
          },
          "metadata": {
            "tags": []
          },
          "execution_count": 37
        }
      ]
    },
    {
      "cell_type": "code",
      "metadata": {
        "colab": {
          "base_uri": "https://localhost:8080/"
        },
        "id": "EmESlJHv0UYr",
        "outputId": "51ad5012-8a02-4a8b-c44a-98bbe63a3528"
      },
      "source": [
        "y_hats.index[yforcast == -0.00394]"
      ],
      "execution_count": 38,
      "outputs": [
        {
          "output_type": "execute_result",
          "data": {
            "text/plain": [
              "Int64Index([], dtype='int64')"
            ]
          },
          "metadata": {
            "tags": []
          },
          "execution_count": 38
        }
      ]
    },
    {
      "cell_type": "code",
      "metadata": {
        "colab": {
          "base_uri": "https://localhost:8080/"
        },
        "id": "OZn3Pj440UYs",
        "outputId": "22ef882a-3ca4-49df-98ad-129a688cb1fb"
      },
      "source": [
        "y_hats.loc[y_hats['A'] == 0.000200, 'index']"
      ],
      "execution_count": 39,
      "outputs": [
        {
          "output_type": "execute_result",
          "data": {
            "text/plain": [
              "4   2021-01-05\n",
              "Name: index, dtype: datetime64[ns]"
            ]
          },
          "metadata": {
            "tags": []
          },
          "execution_count": 39
        }
      ]
    },
    {
      "cell_type": "code",
      "metadata": {
        "colab": {
          "base_uri": "https://localhost:8080/"
        },
        "id": "IpT37ORs0UYs",
        "outputId": "08571f4e-11c7-40da-f2f3-ddd49a68f91c"
      },
      "source": [
        "np.where(y_hats[\"A\"]==-0.003867)"
      ],
      "execution_count": 40,
      "outputs": [
        {
          "output_type": "execute_result",
          "data": {
            "text/plain": [
              "(array([], dtype=int64),)"
            ]
          },
          "metadata": {
            "tags": []
          },
          "execution_count": 40
        }
      ]
    },
    {
      "cell_type": "code",
      "metadata": {
        "colab": {
          "base_uri": "https://localhost:8080/"
        },
        "id": "UPPiu9nd0UYt",
        "outputId": "b67933d9-08df-48c6-c88b-51be201c4f22"
      },
      "source": [
        "search = '-0.004308' \n",
        "y_hats.loc[y_hats.isin([search]).any(axis=1)].index.tolist()"
      ],
      "execution_count": 41,
      "outputs": [
        {
          "output_type": "execute_result",
          "data": {
            "text/plain": [
              "[]"
            ]
          },
          "metadata": {
            "tags": []
          },
          "execution_count": 41
        }
      ]
    },
    {
      "cell_type": "code",
      "metadata": {
        "colab": {
          "base_uri": "https://localhost:8080/"
        },
        "id": "4EwzDKjm0UYu",
        "outputId": "94973444-81cc-4c7d-a164-df9bc7e7cbeb"
      },
      "source": [
        "yforcast[yforcast == -0.004308]"
      ],
      "execution_count": 42,
      "outputs": [
        {
          "output_type": "execute_result",
          "data": {
            "text/plain": [
              "Series([], dtype: float64)"
            ]
          },
          "metadata": {
            "tags": []
          },
          "execution_count": 42
        }
      ]
    },
    {
      "cell_type": "code",
      "metadata": {
        "colab": {
          "base_uri": "https://localhost:8080/",
          "height": 238
        },
        "id": "I7O1kcIz0UYw",
        "outputId": "305e2018-d02b-46e8-e511-a742873b17ef"
      },
      "source": [
        "\n",
        "import pandas as pd\n",
        "import numpy as np\n",
        "import matplotlib.pyplot as plt\n",
        "import matplotlib.pyplot as plt\n",
        "plt.rcParams[\"figure.figsize\"] = (20,3)\n",
        "fig1 = plt.figure()\n",
        "fig2 = plt.figure()\n",
        "\n",
        "ax1 = fig1.add_subplot(111)\n",
        "ax2 = fig2.add_subplot(111)\n",
        "\n",
        "ax1.plot(y, color = 'red', label = 'Present')\n",
        "\n",
        "ax2.plot(yforecast, color = 'blue', label = 'forecasted')\n",
        "ax1.annotate('Present Time',\n",
        "            xy=(400, 100), xycoords='figure pixels')\n",
        "ax2.annotate('Present Time',\n",
        "            xy=(300, 150), xycoords='figure pixels')\n",
        "ax2.annotate('Predicted Future Cutrate',\n",
        "            xy=(600, 100), xycoords='figure pixels')\n",
        "pl.title('Forecasting')\n",
        "pl.xlabel('Time')\n",
        "pl.ylabel('Size')\n",
        "pl.legend()\n",
        "plt.show()"
      ],
      "execution_count": 50,
      "outputs": [
        {
          "output_type": "display_data",
          "data": {
            "image/png": "[encoded data removed]",
            "text/plain": [
              "<Figure size 1440x216 with 1 Axes>"
            ]
          },
          "metadata": {
            "tags": [],
            "needs_background": "light"
          }
        },
        {
          "output_type": "display_data",
          "data": {
            "image/png": "[encoded data removed]",
            "text/plain": [
              "<Figure size 1440x216 with 1 Axes>"
            ]
          },
          "metadata": {
            "tags": [],
            "needs_background": "light"
          }
        }
      ]
    },
    {
      "cell_type": "code",
      "metadata": {
        "id": "z49sWth60UYw"
      },
      "source": [
        "from sklearn.metrics import mean_squared_error\n",
        "from math import sqrt\n",
        "# calculate out of sample error\n",
        "# Make a function called evaluate_arima_model to find the MSE of a single ARIMA model \n",
        "def evaluate_arima_model(data, arima_order):\n",
        "    # Needs to be an integer because it is later used as an index.\n",
        "    # Use int()\n",
        "    split=int(len(data) * 0.8) \n",
        "    # Make train and test variables, with 'train, test'\n",
        "    train, test = data[0:split], data[split:len(data)]\n",
        "    past=[x for x in train]\n",
        "    # make predictions\n",
        "    predictions = list()\n",
        "    for i in range(len(test)):#timestep-wise comparison between test data and one-step prediction ARIMA model. \n",
        "        model = ARIMA(past, order=arima_order)\n",
        "        model_fit = model.fit(disp=0)\n",
        "        future = model_fit.forecast()[0]\n",
        "        predictions.append(future)\n",
        "        past.append(test[i])\n",
        "    # calculate out of sample error\n",
        "    error = mean_squared_error(test, predictions)\n",
        "    # Return the error\n",
        "    rmse = sqrt(error)\n",
        "    return rmse\n"
      ],
      "execution_count": 43,
      "outputs": []
    },
    {
      "cell_type": "code",
      "metadata": {
        "id": "MwCPUw2I0UYx"
      },
      "source": [
        "# Make a function called evaluate_models to evaluate different ARIMA models with several different p, d, and q values.\n",
        "def evaluate_models(dataset, p_values, d_values, q_values):\n",
        "    best_score, best_cfg = float(\"inf\"), None\n",
        "    # Iterate through p_values\n",
        "    for p in p_values:\n",
        "        # Iterate through d_values\n",
        "        for d in d_values:\n",
        "            # Iterate through q_values\n",
        "            for q in q_values:\n",
        "                # p, d, q iterator variables in that order\n",
        "                order = (p,d,q)\n",
        "                try:\n",
        "                    # Make a variable called mse for the Mean squared error\n",
        "                    rmse = evaluate_arima_model(dataset, order)\n",
        "                    if rmse < best_score:\n",
        "                        best_score, best_cfg = rmse, order\n",
        "                    print('ARIMA%s MSE=%.3f' % (order,rmse))\n",
        "                except:\n",
        "                    continue\n",
        "    return print('Best ARIMA%s RMSE=%.3f' % (best_cfg, best_score))"
      ],
      "execution_count": 44,
      "outputs": []
    },
    {
      "cell_type": "code",
      "metadata": {
        "colab": {
          "base_uri": "https://localhost:8080/"
        },
        "id": "y496uXT20UYx",
        "outputId": "b80fabf1-c69f-450c-ab21-9e2588e54b07"
      },
      "source": [
        "# Finally, we can find the optimum ARIMA model for our data.\n",
        "# Nb. this can take a while...!\n",
        "import warnings\n",
        "warnings.filterwarnings(\"ignore\")\n",
        "evaluate_models(y, p_values, d_values, q_values)"
      ],
      "execution_count": 45,
      "outputs": [
        {
          "output_type": "stream",
          "text": [
            "ARIMA(0, 0, 0) MSE=0.000\n",
            "ARIMA(0, 0, 1) MSE=0.000\n",
            "ARIMA(0, 0, 2) MSE=0.000\n",
            "ARIMA(0, 1, 0) MSE=0.000\n",
            "ARIMA(0, 1, 1) MSE=0.000\n",
            "ARIMA(0, 1, 2) MSE=0.000\n",
            "ARIMA(0, 2, 0) MSE=0.000\n",
            "ARIMA(0, 2, 1) MSE=0.000\n",
            "ARIMA(0, 2, 2) MSE=0.000\n",
            "ARIMA(1, 0, 0) MSE=0.000\n",
            "ARIMA(1, 1, 0) MSE=0.000\n",
            "ARIMA(1, 2, 0) MSE=0.000\n",
            "ARIMA(2, 0, 0) MSE=0.000\n",
            "ARIMA(2, 1, 0) MSE=0.000\n",
            "ARIMA(2, 2, 0) MSE=0.000\n",
            "ARIMA(2, 2, 1) MSE=0.000\n",
            "Best ARIMA(0, 1, 1) RMSE=0.000\n"
          ],
          "name": "stdout"
        }
      ]
    },
    {
      "cell_type": "markdown",
      "metadata": {
        "id": "CkC0S6ph0UYy"
      },
      "source": [
        "# Facebook Prophet Approach"
      ]
    },
    {
      "cell_type": "markdown",
      "metadata": {
        "id": "v3MshMk9_AFk"
      },
      "source": [
        "In the model training part and should not split the same into train and test."
      ]
    },
    {
      "cell_type": "code",
      "metadata": {
        "colab": {
          "base_uri": "https://localhost:8080/",
          "height": 241
        },
        "id": "f6Ng7Uds0UYy",
        "outputId": "63231186-1e81-4bd7-afa8-7ceed192a963"
      },
      "source": [
        "# Import Train and Test Data \n",
        "from google.colab import drive\n",
        "drive.mount(\"/content/gdrive/\")\n",
        "import pandas as pd\n",
        "datafile = pd.read_excel('FBdataset.xlsx')\n",
        "\n",
        "data = pd.DataFrame(datafile)\n",
        "data.head()"
      ],
      "execution_count": 46,
      "outputs": [
        {
          "output_type": "stream",
          "text": [
            "Drive already mounted at /content/gdrive/; to attempt to forcibly remount, call drive.mount(\"/content/gdrive/\", force_remount=True).\n"
          ],
          "name": "stdout"
        },
        {
          "output_type": "execute_result",
          "data": {
            "text/html": [
              "<div>\n",
              "<style scoped>\n",
              "    .dataframe tbody tr th:only-of-type {\n",
              "        vertical-align: middle;\n",
              "    }\n",
              "\n",
              "    .dataframe tbody tr th {\n",
              "        vertical-align: top;\n",
              "    }\n",
              "\n",
              "    .dataframe thead th {\n",
              "        text-align: right;\n",
              "    }\n",
              "</style>\n",
              "<table border=\"1\" class=\"dataframe\">\n",
              "  <thead>\n",
              "    <tr style=\"text-align: right;\">\n",
              "      <th></th>\n",
              "      <th>y</th>\n",
              "      <th>ds</th>\n",
              "    </tr>\n",
              "  </thead>\n",
              "  <tbody>\n",
              "    <tr>\n",
              "      <th>0</th>\n",
              "      <td>0.0007</td>\n",
              "      <td>2021-01-01</td>\n",
              "    </tr>\n",
              "    <tr>\n",
              "      <th>1</th>\n",
              "      <td>0.0003</td>\n",
              "      <td>2021-01-02</td>\n",
              "    </tr>\n",
              "    <tr>\n",
              "      <th>2</th>\n",
              "      <td>0.0003</td>\n",
              "      <td>2021-01-03</td>\n",
              "    </tr>\n",
              "    <tr>\n",
              "      <th>3</th>\n",
              "      <td>0.0003</td>\n",
              "      <td>2021-01-04</td>\n",
              "    </tr>\n",
              "    <tr>\n",
              "      <th>4</th>\n",
              "      <td>0.0002</td>\n",
              "      <td>2021-01-05</td>\n",
              "    </tr>\n",
              "  </tbody>\n",
              "</table>\n",
              "</div>"
            ],
            "text/plain": [
              "        y         ds\n",
              "0  0.0007 2021-01-01\n",
              "1  0.0003 2021-01-02\n",
              "2  0.0003 2021-01-03\n",
              "3  0.0003 2021-01-04\n",
              "4  0.0002 2021-01-05"
            ]
          },
          "metadata": {
            "tags": []
          },
          "execution_count": 46
        }
      ]
    },
    {
      "cell_type": "code",
      "metadata": {
        "id": "AnVpjSil0UYz"
      },
      "source": [
        "datarev = data[data.columns[::-1]]\n"
      ],
      "execution_count": 47,
      "outputs": []
    },
    {
      "cell_type": "markdown",
      "metadata": {
        "id": "fgsTYrmp_VGi"
      },
      "source": [
        "Changing the data type of the date column to Date time:"
      ]
    },
    {
      "cell_type": "code",
      "metadata": {
        "id": "ggJ5WlKS7P3N"
      },
      "source": [
        "datarev.columns = ['ds','y']\r\n",
        "#convert column \"date\" into datetime format\r\n",
        "datarev['ds'] = pd.to_datetime(datarev.ds)"
      ],
      "execution_count": 48,
      "outputs": []
    },
    {
      "cell_type": "code",
      "metadata": {
        "colab": {
          "base_uri": "https://localhost:8080/",
          "height": 204
        },
        "id": "KWOUv8hB8XRU",
        "outputId": "ad1f1d07-73cf-40a8-b2c1-5f890b7b9b0d"
      },
      "source": [
        "datarev.head()"
      ],
      "execution_count": 49,
      "outputs": [
        {
          "output_type": "execute_result",
          "data": {
            "text/html": [
              "<div>\n",
              "<style scoped>\n",
              "    .dataframe tbody tr th:only-of-type {\n",
              "        vertical-align: middle;\n",
              "    }\n",
              "\n",
              "    .dataframe tbody tr th {\n",
              "        vertical-align: top;\n",
              "    }\n",
              "\n",
              "    .dataframe thead th {\n",
              "        text-align: right;\n",
              "    }\n",
              "</style>\n",
              "<table border=\"1\" class=\"dataframe\">\n",
              "  <thead>\n",
              "    <tr style=\"text-align: right;\">\n",
              "      <th></th>\n",
              "      <th>ds</th>\n",
              "      <th>y</th>\n",
              "    </tr>\n",
              "  </thead>\n",
              "  <tbody>\n",
              "    <tr>\n",
              "      <th>0</th>\n",
              "      <td>2021-01-01</td>\n",
              "      <td>0.0007</td>\n",
              "    </tr>\n",
              "    <tr>\n",
              "      <th>1</th>\n",
              "      <td>2021-01-02</td>\n",
              "      <td>0.0003</td>\n",
              "    </tr>\n",
              "    <tr>\n",
              "      <th>2</th>\n",
              "      <td>2021-01-03</td>\n",
              "      <td>0.0003</td>\n",
              "    </tr>\n",
              "    <tr>\n",
              "      <th>3</th>\n",
              "      <td>2021-01-04</td>\n",
              "      <td>0.0003</td>\n",
              "    </tr>\n",
              "    <tr>\n",
              "      <th>4</th>\n",
              "      <td>2021-01-05</td>\n",
              "      <td>0.0002</td>\n",
              "    </tr>\n",
              "  </tbody>\n",
              "</table>\n",
              "</div>"
            ],
            "text/plain": [
              "          ds       y\n",
              "0 2021-01-01  0.0007\n",
              "1 2021-01-02  0.0003\n",
              "2 2021-01-03  0.0003\n",
              "3 2021-01-04  0.0003\n",
              "4 2021-01-05  0.0002"
            ]
          },
          "metadata": {
            "tags": []
          },
          "execution_count": 49
        }
      ]
    },
    {
      "cell_type": "code",
      "metadata": {
        "colab": {
          "base_uri": "https://localhost:8080/",
          "height": 320
        },
        "id": "Qmwx-uDG9kBl",
        "outputId": "74ec8c2a-ee16-4ca5-89c4-ef0bc60be243"
      },
      "source": [
        "datarev.plot(x='ds')"
      ],
      "execution_count": 50,
      "outputs": [
        {
          "output_type": "execute_result",
          "data": {
            "text/plain": [
              "<matplotlib.axes._subplots.AxesSubplot at 0x7f4e235a2390>"
            ]
          },
          "metadata": {
            "tags": []
          },
          "execution_count": 50
        },
        {
          "output_type": "display_data",
          "data": {
            "image/png": "[encoded data removed]",
            "text/plain": [
              "<Figure size 432x288 with 1 Axes>"
            ]
          },
          "metadata": {
            "tags": [],
            "needs_background": "light"
          }
        }
      ]
    },
    {
      "cell_type": "code",
      "metadata": {
        "id": "XAO6QVFl0UY0"
      },
      "source": [
        "\n",
        "from fbprophet import Prophet\n",
        "\n",
        "model=Prophet()\n",
        "\n",
        "\n"
      ],
      "execution_count": 51,
      "outputs": []
    },
    {
      "cell_type": "code",
      "metadata": {
        "colab": {
          "base_uri": "https://localhost:8080/"
        },
        "id": "elx8wzvA0UY0",
        "outputId": "c2f62b6b-8fb6-43b7-a186-25b87efcfe1f"
      },
      "source": [
        "model.fit(datarev)"
      ],
      "execution_count": 52,
      "outputs": [
        {
          "output_type": "stream",
          "text": [
            "INFO:fbprophet:Disabling yearly seasonality. Run prophet with yearly_seasonality=True to override this.\n",
            "INFO:fbprophet:Disabling daily seasonality. Run prophet with daily_seasonality=True to override this.\n",
            "INFO:fbprophet:n_changepoints greater than number of observations. Using 12.\n"
          ],
          "name": "stderr"
        },
        {
          "output_type": "execute_result",
          "data": {
            "text/plain": [
              "<fbprophet.forecaster.Prophet at 0x7f4e2354b2d0>"
            ]
          },
          "metadata": {
            "tags": []
          },
          "execution_count": 52
        }
      ]
    },
    {
      "cell_type": "markdown",
      "metadata": {
        "id": "jf_Iy4Q5_l-i"
      },
      "source": [
        "Creating the future dataset with the help of the Prophet so that we make predictions on unseen data:"
      ]
    },
    {
      "cell_type": "code",
      "metadata": {
        "id": "r1Rpa8Ev1yHk"
      },
      "source": [
        "future = model.make_future_dataframe(periods = 365)\r\n"
      ],
      "execution_count": 53,
      "outputs": []
    },
    {
      "cell_type": "code",
      "metadata": {
        "colab": {
          "base_uri": "https://localhost:8080/",
          "height": 204
        },
        "id": "kzzwjqjg2IaF",
        "outputId": "18fd95c0-9862-40fe-f714-d610e1c337cf"
      },
      "source": [
        "datarev.tail()"
      ],
      "execution_count": 54,
      "outputs": [
        {
          "output_type": "execute_result",
          "data": {
            "text/html": [
              "<div>\n",
              "<style scoped>\n",
              "    .dataframe tbody tr th:only-of-type {\n",
              "        vertical-align: middle;\n",
              "    }\n",
              "\n",
              "    .dataframe tbody tr th {\n",
              "        vertical-align: top;\n",
              "    }\n",
              "\n",
              "    .dataframe thead th {\n",
              "        text-align: right;\n",
              "    }\n",
              "</style>\n",
              "<table border=\"1\" class=\"dataframe\">\n",
              "  <thead>\n",
              "    <tr style=\"text-align: right;\">\n",
              "      <th></th>\n",
              "      <th>ds</th>\n",
              "      <th>y</th>\n",
              "    </tr>\n",
              "  </thead>\n",
              "  <tbody>\n",
              "    <tr>\n",
              "      <th>12</th>\n",
              "      <td>2021-01-13</td>\n",
              "      <td>-0.000516</td>\n",
              "    </tr>\n",
              "    <tr>\n",
              "      <th>13</th>\n",
              "      <td>2021-01-14</td>\n",
              "      <td>-0.000605</td>\n",
              "    </tr>\n",
              "    <tr>\n",
              "      <th>14</th>\n",
              "      <td>2021-01-15</td>\n",
              "      <td>-0.000693</td>\n",
              "    </tr>\n",
              "    <tr>\n",
              "      <th>15</th>\n",
              "      <td>2021-01-16</td>\n",
              "      <td>-0.000781</td>\n",
              "    </tr>\n",
              "    <tr>\n",
              "      <th>16</th>\n",
              "      <td>2021-01-17</td>\n",
              "      <td>-0.000869</td>\n",
              "    </tr>\n",
              "  </tbody>\n",
              "</table>\n",
              "</div>"
            ],
            "text/plain": [
              "           ds         y\n",
              "12 2021-01-13 -0.000516\n",
              "13 2021-01-14 -0.000605\n",
              "14 2021-01-15 -0.000693\n",
              "15 2021-01-16 -0.000781\n",
              "16 2021-01-17 -0.000869"
            ]
          },
          "metadata": {
            "tags": []
          },
          "execution_count": 54
        }
      ]
    },
    {
      "cell_type": "code",
      "metadata": {
        "colab": {
          "base_uri": "https://localhost:8080/",
          "height": 204
        },
        "id": "SXxPvf082Rtu",
        "outputId": "572a7d6c-f91e-4f23-d4ed-a6c85a4bc5de"
      },
      "source": [
        "future.tail()"
      ],
      "execution_count": 55,
      "outputs": [
        {
          "output_type": "execute_result",
          "data": {
            "text/html": [
              "<div>\n",
              "<style scoped>\n",
              "    .dataframe tbody tr th:only-of-type {\n",
              "        vertical-align: middle;\n",
              "    }\n",
              "\n",
              "    .dataframe tbody tr th {\n",
              "        vertical-align: top;\n",
              "    }\n",
              "\n",
              "    .dataframe thead th {\n",
              "        text-align: right;\n",
              "    }\n",
              "</style>\n",
              "<table border=\"1\" class=\"dataframe\">\n",
              "  <thead>\n",
              "    <tr style=\"text-align: right;\">\n",
              "      <th></th>\n",
              "      <th>ds</th>\n",
              "    </tr>\n",
              "  </thead>\n",
              "  <tbody>\n",
              "    <tr>\n",
              "      <th>377</th>\n",
              "      <td>2022-01-13</td>\n",
              "    </tr>\n",
              "    <tr>\n",
              "      <th>378</th>\n",
              "      <td>2022-01-14</td>\n",
              "    </tr>\n",
              "    <tr>\n",
              "      <th>379</th>\n",
              "      <td>2022-01-15</td>\n",
              "    </tr>\n",
              "    <tr>\n",
              "      <th>380</th>\n",
              "      <td>2022-01-16</td>\n",
              "    </tr>\n",
              "    <tr>\n",
              "      <th>381</th>\n",
              "      <td>2022-01-17</td>\n",
              "    </tr>\n",
              "  </tbody>\n",
              "</table>\n",
              "</div>"
            ],
            "text/plain": [
              "            ds\n",
              "377 2022-01-13\n",
              "378 2022-01-14\n",
              "379 2022-01-15\n",
              "380 2022-01-16\n",
              "381 2022-01-17"
            ]
          },
          "metadata": {
            "tags": []
          },
          "execution_count": 55
        }
      ]
    },
    {
      "cell_type": "markdown",
      "metadata": {
        "id": "9289FBEc_t9O"
      },
      "source": [
        "Making predictions:"
      ]
    },
    {
      "cell_type": "code",
      "metadata": {
        "colab": {
          "base_uri": "https://localhost:8080/",
          "height": 609
        },
        "id": "DTtrhER62av0",
        "outputId": "5d75dcd6-8e89-41f8-94f4-69c1f65a1365"
      },
      "source": [
        "pred = model.predict(future)\r\n",
        "pred"
      ],
      "execution_count": 56,
      "outputs": [
        {
          "output_type": "execute_result",
          "data": {
            "text/html": [
              "<div>\n",
              "<style scoped>\n",
              "    .dataframe tbody tr th:only-of-type {\n",
              "        vertical-align: middle;\n",
              "    }\n",
              "\n",
              "    .dataframe tbody tr th {\n",
              "        vertical-align: top;\n",
              "    }\n",
              "\n",
              "    .dataframe thead th {\n",
              "        text-align: right;\n",
              "    }\n",
              "</style>\n",
              "<table border=\"1\" class=\"dataframe\">\n",
              "  <thead>\n",
              "    <tr style=\"text-align: right;\">\n",
              "      <th></th>\n",
              "      <th>ds</th>\n",
              "      <th>trend</th>\n",
              "      <th>yhat_lower</th>\n",
              "      <th>yhat_upper</th>\n",
              "      <th>trend_lower</th>\n",
              "      <th>trend_upper</th>\n",
              "      <th>additive_terms</th>\n",
              "      <th>additive_terms_lower</th>\n",
              "      <th>additive_terms_upper</th>\n",
              "      <th>weekly</th>\n",
              "      <th>weekly_lower</th>\n",
              "      <th>weekly_upper</th>\n",
              "      <th>multiplicative_terms</th>\n",
              "      <th>multiplicative_terms_lower</th>\n",
              "      <th>multiplicative_terms_upper</th>\n",
              "      <th>yhat</th>\n",
              "    </tr>\n",
              "  </thead>\n",
              "  <tbody>\n",
              "    <tr>\n",
              "      <th>0</th>\n",
              "      <td>2021-01-01</td>\n",
              "      <td>0.000538</td>\n",
              "      <td>0.000533</td>\n",
              "      <td>0.000651</td>\n",
              "      <td>0.000538</td>\n",
              "      <td>0.000538</td>\n",
              "      <td>0.000054</td>\n",
              "      <td>0.000054</td>\n",
              "      <td>0.000054</td>\n",
              "      <td>0.000054</td>\n",
              "      <td>0.000054</td>\n",
              "      <td>0.000054</td>\n",
              "      <td>0.0</td>\n",
              "      <td>0.0</td>\n",
              "      <td>0.0</td>\n",
              "      <td>0.000592</td>\n",
              "    </tr>\n",
              "    <tr>\n",
              "      <th>1</th>\n",
              "      <td>2021-01-02</td>\n",
              "      <td>0.000450</td>\n",
              "      <td>0.000340</td>\n",
              "      <td>0.000459</td>\n",
              "      <td>0.000450</td>\n",
              "      <td>0.000450</td>\n",
              "      <td>-0.000051</td>\n",
              "      <td>-0.000051</td>\n",
              "      <td>-0.000051</td>\n",
              "      <td>-0.000051</td>\n",
              "      <td>-0.000051</td>\n",
              "      <td>-0.000051</td>\n",
              "      <td>0.0</td>\n",
              "      <td>0.0</td>\n",
              "      <td>0.0</td>\n",
              "      <td>0.000399</td>\n",
              "    </tr>\n",
              "    <tr>\n",
              "      <th>2</th>\n",
              "      <td>2021-01-03</td>\n",
              "      <td>0.000363</td>\n",
              "      <td>0.000282</td>\n",
              "      <td>0.000396</td>\n",
              "      <td>0.000363</td>\n",
              "      <td>0.000363</td>\n",
              "      <td>-0.000023</td>\n",
              "      <td>-0.000023</td>\n",
              "      <td>-0.000023</td>\n",
              "      <td>-0.000023</td>\n",
              "      <td>-0.000023</td>\n",
              "      <td>-0.000023</td>\n",
              "      <td>0.0</td>\n",
              "      <td>0.0</td>\n",
              "      <td>0.0</td>\n",
              "      <td>0.000339</td>\n",
              "    </tr>\n",
              "    <tr>\n",
              "      <th>3</th>\n",
              "      <td>2021-01-04</td>\n",
              "      <td>0.000275</td>\n",
              "      <td>0.000228</td>\n",
              "      <td>0.000349</td>\n",
              "      <td>0.000275</td>\n",
              "      <td>0.000275</td>\n",
              "      <td>0.000011</td>\n",
              "      <td>0.000011</td>\n",
              "      <td>0.000011</td>\n",
              "      <td>0.000011</td>\n",
              "      <td>0.000011</td>\n",
              "      <td>0.000011</td>\n",
              "      <td>0.0</td>\n",
              "      <td>0.0</td>\n",
              "      <td>0.0</td>\n",
              "      <td>0.000286</td>\n",
              "    </tr>\n",
              "    <tr>\n",
              "      <th>4</th>\n",
              "      <td>2021-01-05</td>\n",
              "      <td>0.000188</td>\n",
              "      <td>0.000137</td>\n",
              "      <td>0.000252</td>\n",
              "      <td>0.000188</td>\n",
              "      <td>0.000188</td>\n",
              "      <td>0.000005</td>\n",
              "      <td>0.000005</td>\n",
              "      <td>0.000005</td>\n",
              "      <td>0.000005</td>\n",
              "      <td>0.000005</td>\n",
              "      <td>0.000005</td>\n",
              "      <td>0.0</td>\n",
              "      <td>0.0</td>\n",
              "      <td>0.0</td>\n",
              "      <td>0.000192</td>\n",
              "    </tr>\n",
              "    <tr>\n",
              "      <th>...</th>\n",
              "      <td>...</td>\n",
              "      <td>...</td>\n",
              "      <td>...</td>\n",
              "      <td>...</td>\n",
              "      <td>...</td>\n",
              "      <td>...</td>\n",
              "      <td>...</td>\n",
              "      <td>...</td>\n",
              "      <td>...</td>\n",
              "      <td>...</td>\n",
              "      <td>...</td>\n",
              "      <td>...</td>\n",
              "      <td>...</td>\n",
              "      <td>...</td>\n",
              "      <td>...</td>\n",
              "      <td>...</td>\n",
              "    </tr>\n",
              "    <tr>\n",
              "      <th>377</th>\n",
              "      <td>2022-01-13</td>\n",
              "      <td>-0.032460</td>\n",
              "      <td>-0.032520</td>\n",
              "      <td>-0.032403</td>\n",
              "      <td>-0.032460</td>\n",
              "      <td>-0.032460</td>\n",
              "      <td>0.000001</td>\n",
              "      <td>0.000001</td>\n",
              "      <td>0.000001</td>\n",
              "      <td>0.000001</td>\n",
              "      <td>0.000001</td>\n",
              "      <td>0.000001</td>\n",
              "      <td>0.0</td>\n",
              "      <td>0.0</td>\n",
              "      <td>0.0</td>\n",
              "      <td>-0.032458</td>\n",
              "    </tr>\n",
              "    <tr>\n",
              "      <th>378</th>\n",
              "      <td>2022-01-14</td>\n",
              "      <td>-0.032547</td>\n",
              "      <td>-0.032552</td>\n",
              "      <td>-0.032434</td>\n",
              "      <td>-0.032547</td>\n",
              "      <td>-0.032547</td>\n",
              "      <td>0.000054</td>\n",
              "      <td>0.000054</td>\n",
              "      <td>0.000054</td>\n",
              "      <td>0.000054</td>\n",
              "      <td>0.000054</td>\n",
              "      <td>0.000054</td>\n",
              "      <td>0.0</td>\n",
              "      <td>0.0</td>\n",
              "      <td>0.0</td>\n",
              "      <td>-0.032493</td>\n",
              "    </tr>\n",
              "    <tr>\n",
              "      <th>379</th>\n",
              "      <td>2022-01-15</td>\n",
              "      <td>-0.032635</td>\n",
              "      <td>-0.032744</td>\n",
              "      <td>-0.032625</td>\n",
              "      <td>-0.032635</td>\n",
              "      <td>-0.032635</td>\n",
              "      <td>-0.000051</td>\n",
              "      <td>-0.000051</td>\n",
              "      <td>-0.000051</td>\n",
              "      <td>-0.000051</td>\n",
              "      <td>-0.000051</td>\n",
              "      <td>-0.000051</td>\n",
              "      <td>0.0</td>\n",
              "      <td>0.0</td>\n",
              "      <td>0.0</td>\n",
              "      <td>-0.032686</td>\n",
              "    </tr>\n",
              "    <tr>\n",
              "      <th>380</th>\n",
              "      <td>2022-01-16</td>\n",
              "      <td>-0.032722</td>\n",
              "      <td>-0.032803</td>\n",
              "      <td>-0.032687</td>\n",
              "      <td>-0.032722</td>\n",
              "      <td>-0.032722</td>\n",
              "      <td>-0.000023</td>\n",
              "      <td>-0.000023</td>\n",
              "      <td>-0.000023</td>\n",
              "      <td>-0.000023</td>\n",
              "      <td>-0.000023</td>\n",
              "      <td>-0.000023</td>\n",
              "      <td>0.0</td>\n",
              "      <td>0.0</td>\n",
              "      <td>0.0</td>\n",
              "      <td>-0.032746</td>\n",
              "    </tr>\n",
              "    <tr>\n",
              "      <th>381</th>\n",
              "      <td>2022-01-17</td>\n",
              "      <td>-0.032810</td>\n",
              "      <td>-0.032858</td>\n",
              "      <td>-0.032737</td>\n",
              "      <td>-0.032810</td>\n",
              "      <td>-0.032810</td>\n",
              "      <td>0.000011</td>\n",
              "      <td>0.000011</td>\n",
              "      <td>0.000011</td>\n",
              "      <td>0.000011</td>\n",
              "      <td>0.000011</td>\n",
              "      <td>0.000011</td>\n",
              "      <td>0.0</td>\n",
              "      <td>0.0</td>\n",
              "      <td>0.0</td>\n",
              "      <td>-0.032799</td>\n",
              "    </tr>\n",
              "  </tbody>\n",
              "</table>\n",
              "<p>382 rows × 16 columns</p>\n",
              "</div>"
            ],
            "text/plain": [
              "            ds     trend  ...  multiplicative_terms_upper      yhat\n",
              "0   2021-01-01  0.000538  ...                         0.0  0.000592\n",
              "1   2021-01-02  0.000450  ...                         0.0  0.000399\n",
              "2   2021-01-03  0.000363  ...                         0.0  0.000339\n",
              "3   2021-01-04  0.000275  ...                         0.0  0.000286\n",
              "4   2021-01-05  0.000188  ...                         0.0  0.000192\n",
              "..         ...       ...  ...                         ...       ...\n",
              "377 2022-01-13 -0.032460  ...                         0.0 -0.032458\n",
              "378 2022-01-14 -0.032547  ...                         0.0 -0.032493\n",
              "379 2022-01-15 -0.032635  ...                         0.0 -0.032686\n",
              "380 2022-01-16 -0.032722  ...                         0.0 -0.032746\n",
              "381 2022-01-17 -0.032810  ...                         0.0 -0.032799\n",
              "\n",
              "[382 rows x 16 columns]"
            ]
          },
          "metadata": {
            "tags": []
          },
          "execution_count": 56
        }
      ]
    },
    {
      "cell_type": "markdown",
      "metadata": {
        "id": "nxiHKhZAAAvc"
      },
      "source": [
        "yhat means the predicted output based on the input fed to the model, yhat_lower, and upper means the upper and lower value that can go based on the predicted output that is, the fluctuations that can happen."
      ]
    },
    {
      "cell_type": "markdown",
      "metadata": {
        "id": "Bf8tC4NSAKTc"
      },
      "source": [
        "Getting the desired columns:"
      ]
    },
    {
      "cell_type": "code",
      "metadata": {
        "colab": {
          "base_uri": "https://localhost:8080/",
          "height": 204
        },
        "id": "t6dTB0dlAL3h",
        "outputId": "dc68f9cc-0163-4f32-afaf-36dd2c702d78"
      },
      "source": [
        "pred[['ds','yhat','yhat_lower','yhat_upper']].head()"
      ],
      "execution_count": 57,
      "outputs": [
        {
          "output_type": "execute_result",
          "data": {
            "text/html": [
              "<div>\n",
              "<style scoped>\n",
              "    .dataframe tbody tr th:only-of-type {\n",
              "        vertical-align: middle;\n",
              "    }\n",
              "\n",
              "    .dataframe tbody tr th {\n",
              "        vertical-align: top;\n",
              "    }\n",
              "\n",
              "    .dataframe thead th {\n",
              "        text-align: right;\n",
              "    }\n",
              "</style>\n",
              "<table border=\"1\" class=\"dataframe\">\n",
              "  <thead>\n",
              "    <tr style=\"text-align: right;\">\n",
              "      <th></th>\n",
              "      <th>ds</th>\n",
              "      <th>yhat</th>\n",
              "      <th>yhat_lower</th>\n",
              "      <th>yhat_upper</th>\n",
              "    </tr>\n",
              "  </thead>\n",
              "  <tbody>\n",
              "    <tr>\n",
              "      <th>0</th>\n",
              "      <td>2021-01-01</td>\n",
              "      <td>0.000592</td>\n",
              "      <td>0.000533</td>\n",
              "      <td>0.000651</td>\n",
              "    </tr>\n",
              "    <tr>\n",
              "      <th>1</th>\n",
              "      <td>2021-01-02</td>\n",
              "      <td>0.000399</td>\n",
              "      <td>0.000340</td>\n",
              "      <td>0.000459</td>\n",
              "    </tr>\n",
              "    <tr>\n",
              "      <th>2</th>\n",
              "      <td>2021-01-03</td>\n",
              "      <td>0.000339</td>\n",
              "      <td>0.000282</td>\n",
              "      <td>0.000396</td>\n",
              "    </tr>\n",
              "    <tr>\n",
              "      <th>3</th>\n",
              "      <td>2021-01-04</td>\n",
              "      <td>0.000286</td>\n",
              "      <td>0.000228</td>\n",
              "      <td>0.000349</td>\n",
              "    </tr>\n",
              "    <tr>\n",
              "      <th>4</th>\n",
              "      <td>2021-01-05</td>\n",
              "      <td>0.000192</td>\n",
              "      <td>0.000137</td>\n",
              "      <td>0.000252</td>\n",
              "    </tr>\n",
              "  </tbody>\n",
              "</table>\n",
              "</div>"
            ],
            "text/plain": [
              "          ds      yhat  yhat_lower  yhat_upper\n",
              "0 2021-01-01  0.000592    0.000533    0.000651\n",
              "1 2021-01-02  0.000399    0.000340    0.000459\n",
              "2 2021-01-03  0.000339    0.000282    0.000396\n",
              "3 2021-01-04  0.000286    0.000228    0.000349\n",
              "4 2021-01-05  0.000192    0.000137    0.000252"
            ]
          },
          "metadata": {
            "tags": []
          },
          "execution_count": 57
        }
      ]
    },
    {
      "cell_type": "markdown",
      "metadata": {
        "id": "lDkR8C_DA2LU"
      },
      "source": [
        "Plotting the output:"
      ]
    },
    {
      "cell_type": "markdown",
      "metadata": {
        "id": "h8jmBNRVA3XI"
      },
      "source": [
        "Hereunder the plot we can see the predictions made by the Prophet library. The dotted lines represent the actual data points that we specified in the training part. The lines represent the predictions made. Also, we can see the predictions made on the unseen data that we created with only lines at the extreme right-hand side. For verification purposes, you can match the data frame timestamps with the graph."
      ]
    },
    {
      "cell_type": "code",
      "metadata": {
        "colab": {
          "base_uri": "https://localhost:8080/",
          "height": 765
        },
        "id": "WEKRSCh520w5",
        "outputId": "12b11054-e81a-4d3b-fba3-c07b6eb5aed5"
      },
      "source": [
        "model.plot(pred)"
      ],
      "execution_count": 58,
      "outputs": [
        {
          "output_type": "execute_result",
          "data": {
            "image/png": "[encoded data removed]",
            "text/plain": [
              "<Figure size 720x432 with 1 Axes>"
            ]
          },
          "metadata": {
            "tags": []
          },
          "execution_count": 58
        },
        {
          "output_type": "display_data",
          "data": {
            "image/png": "[encoded data removed]",
            "text/plain": [
              "<Figure size 720x432 with 1 Axes>"
            ]
          },
          "metadata": {
            "tags": []
          }
        }
      ]
    },
    {
      "cell_type": "markdown",
      "metadata": {
        "id": "5w1J2gSABGMR"
      },
      "source": [
        "Checking the trends in the data: "
      ]
    },
    {
      "cell_type": "markdown",
      "metadata": {
        "id": "Ik5BNZ-RBHX7"
      },
      "source": [
        "Below we can see the trends with respect to year and months in the year.The first graph represents a decreasing trend as we progress in the years."
      ]
    },
    {
      "cell_type": "code",
      "metadata": {
        "colab": {
          "base_uri": "https://localhost:8080/",
          "height": 841
        },
        "id": "zq0x_au43A2m",
        "outputId": "663e793e-0858-46b9-9e58-2ec6ce1657ea"
      },
      "source": [
        "model.plot_components(pred)"
      ],
      "execution_count": 59,
      "outputs": [
        {
          "output_type": "execute_result",
          "data": {
            "image/png": "[encoded data removed]",
            "text/plain": [
              "<Figure size 648x432 with 2 Axes>"
            ]
          },
          "metadata": {
            "tags": []
          },
          "execution_count": 59
        },
        {
          "output_type": "display_data",
          "data": {
            "image/png": "[encoded data removed]",
            "text/plain": [
              "<Figure size 648x432 with 2 Axes>"
            ]
          },
          "metadata": {
            "tags": []
          }
        }
      ]
    },
    {
      "cell_type": "markdown",
      "metadata": {
        "id": "0NDjbJ6R0UY1"
      },
      "source": [
        "# LSTM Model Approach"
      ]
    },
    {
      "cell_type": "markdown",
      "metadata": {
        "id": "uSYOCyjh0UY1"
      },
      "source": [
        "I needed to reshape input data to transform it into Neural networks compatible"
      ]
    },
    {
      "cell_type": "code",
      "metadata": {
        "id": "sD_aXJK60UY1"
      },
      "source": [
        "#x and y axes input data\n",
        "\n",
        "\n",
        "y = tb['size4']\n",
        "#x =  tb.drop(['size4'], axis = 1)\n",
        "#x =  tb.drop(['size4','Basic_Size', 'Gr','Start_Size','Target_Pull_Size'], axis = 1)\n",
        "#x.transpose()"
      ],
      "execution_count": 10,
      "outputs": []
    },
    {
      "cell_type": "code",
      "metadata": {
        "id": "c1NiwVdCDjZO"
      },
      "source": [
        "X = tb.loc[:,tb.columns!='size4']\r\n",
        "from sklearn.preprocessing import OneHotEncoder\r\n",
        "traindfcat = X.select_dtypes(include ='object') \r\n",
        "enc = OneHotEncoder(sparse=False)\r\n",
        "X_transfCat = enc.fit_transform(traindfcat)"
      ],
      "execution_count": 11,
      "outputs": []
    },
    {
      "cell_type": "code",
      "metadata": {
        "id": "RAvN4y_g0UY1"
      },
      "source": [
        "Xx = np.array(X_transfCat)\n",
        "Yy = np.array(y)"
      ],
      "execution_count": 12,
      "outputs": []
    },
    {
      "cell_type": "markdown",
      "metadata": {
        "id": "31K2g2_X0UY2"
      },
      "source": [
        "Here is the model itself"
      ]
    },
    {
      "cell_type": "code",
      "metadata": {
        "id": "3IOsnrtd0UY2"
      },
      "source": [
        "\n",
        "from keras.models import Sequential\n",
        "from keras.layers import LSTM\n",
        "from keras.layers import Dense \n",
        "from keras.callbacks import EarlyStopping\n",
        "\n",
        "x_train = np.expand_dims(Xx, 1)\n",
        "# define model\n",
        "model = Sequential()\n",
        "model.add(LSTM(1, input_shape=(1,7), activation='relu', return_sequences=True))\n",
        "model.add(LSTM(1,input_shape=(1,7)))\n",
        "model.compile(optimizer='adam', loss='mse')"
      ],
      "execution_count": 17,
      "outputs": []
    },
    {
      "cell_type": "code",
      "metadata": {
        "colab": {
          "base_uri": "https://localhost:8080/"
        },
        "id": "vkUfwTCq0UY2",
        "outputId": "b1a3907f-0c33-45be-920e-79918854f6bf"
      },
      "source": [
        "print(model.summary())"
      ],
      "execution_count": 18,
      "outputs": [
        {
          "output_type": "stream",
          "text": [
            "Model: \"sequential_1\"\n",
            "_________________________________________________________________\n",
            "Layer (type)                 Output Shape              Param #   \n",
            "=================================================================\n",
            "lstm_2 (LSTM)                (None, 1, 1)              36        \n",
            "_________________________________________________________________\n",
            "lstm_3 (LSTM)                (None, 1)                 12        \n",
            "=================================================================\n",
            "Total params: 48\n",
            "Trainable params: 48\n",
            "Non-trainable params: 0\n",
            "_________________________________________________________________\n",
            "None\n"
          ],
          "name": "stdout"
        }
      ]
    },
    {
      "cell_type": "code",
      "metadata": {
        "id": "U-nfFMwS0UY2"
      },
      "source": [
        "#fitting the model\n",
        "from keras.callbacks import EarlyStopping\n",
        "early_stopping_monitor = EarlyStopping(patience=2)\n",
        "history = model.fit(x_train, y , batch_size = 10240, epochs = 100, verbose = False,validation_split=0.3,callbacks=[early_stopping_monitor])\n"
      ],
      "execution_count": 19,
      "outputs": []
    },
    {
      "cell_type": "code",
      "metadata": {
        "colab": {
          "base_uri": "https://localhost:8080/"
        },
        "id": "KwtwKp680UY3",
        "outputId": "1e267ccd-2c29-43a0-980f-f1237246d62d"
      },
      "source": [
        "#output the forecasted data\n",
        "yhat = model.predict(x_train, verbose=0)\n",
        "print(yhat)"
      ],
      "execution_count": 20,
      "outputs": [
        {
          "output_type": "stream",
          "text": [
            "[[-0.00600726]\n",
            " [-0.00544093]\n",
            " [ 0.0091289 ]\n",
            " [ 0.0091289 ]\n",
            " [-0.00935604]\n",
            " [-0.00190141]\n",
            " [ 0.0091289 ]\n",
            " [-0.00600726]\n",
            " [-0.00544093]\n",
            " [ 0.0091289 ]]\n"
          ],
          "name": "stdout"
        }
      ]
    },
    {
      "cell_type": "code",
      "metadata": {
        "colab": {
          "base_uri": "https://localhost:8080/",
          "height": 359
        },
        "id": "snHf3VPq0UY3",
        "outputId": "37b524af-3221-4ba3-bb15-3de72937fcf8"
      },
      "source": [
        "preds = pd.DataFrame(yhat)\n",
        "preds"
      ],
      "execution_count": 21,
      "outputs": [
        {
          "output_type": "execute_result",
          "data": {
            "text/html": [
              "<div>\n",
              "<style scoped>\n",
              "    .dataframe tbody tr th:only-of-type {\n",
              "        vertical-align: middle;\n",
              "    }\n",
              "\n",
              "    .dataframe tbody tr th {\n",
              "        vertical-align: top;\n",
              "    }\n",
              "\n",
              "    .dataframe thead th {\n",
              "        text-align: right;\n",
              "    }\n",
              "</style>\n",
              "<table border=\"1\" class=\"dataframe\">\n",
              "  <thead>\n",
              "    <tr style=\"text-align: right;\">\n",
              "      <th></th>\n",
              "      <th>0</th>\n",
              "    </tr>\n",
              "  </thead>\n",
              "  <tbody>\n",
              "    <tr>\n",
              "      <th>0</th>\n",
              "      <td>-0.006007</td>\n",
              "    </tr>\n",
              "    <tr>\n",
              "      <th>1</th>\n",
              "      <td>-0.005441</td>\n",
              "    </tr>\n",
              "    <tr>\n",
              "      <th>2</th>\n",
              "      <td>0.009129</td>\n",
              "    </tr>\n",
              "    <tr>\n",
              "      <th>3</th>\n",
              "      <td>0.009129</td>\n",
              "    </tr>\n",
              "    <tr>\n",
              "      <th>4</th>\n",
              "      <td>-0.009356</td>\n",
              "    </tr>\n",
              "    <tr>\n",
              "      <th>5</th>\n",
              "      <td>-0.001901</td>\n",
              "    </tr>\n",
              "    <tr>\n",
              "      <th>6</th>\n",
              "      <td>0.009129</td>\n",
              "    </tr>\n",
              "    <tr>\n",
              "      <th>7</th>\n",
              "      <td>-0.006007</td>\n",
              "    </tr>\n",
              "    <tr>\n",
              "      <th>8</th>\n",
              "      <td>-0.005441</td>\n",
              "    </tr>\n",
              "    <tr>\n",
              "      <th>9</th>\n",
              "      <td>0.009129</td>\n",
              "    </tr>\n",
              "  </tbody>\n",
              "</table>\n",
              "</div>"
            ],
            "text/plain": [
              "          0\n",
              "0 -0.006007\n",
              "1 -0.005441\n",
              "2  0.009129\n",
              "3  0.009129\n",
              "4 -0.009356\n",
              "5 -0.001901\n",
              "6  0.009129\n",
              "7 -0.006007\n",
              "8 -0.005441\n",
              "9  0.009129"
            ]
          },
          "metadata": {
            "tags": []
          },
          "execution_count": 21
        }
      ]
    },
    {
      "cell_type": "code",
      "metadata": {
        "id": "-cUcUcHiFeBq"
      },
      "source": [
        "yforcast = y.append(future_months['Prediction'])"
      ],
      "execution_count": null,
      "outputs": []
    },
    {
      "cell_type": "code",
      "metadata": {
        "colab": {
          "base_uri": "https://localhost:8080/"
        },
        "id": "8dqgyrVd0UY4",
        "outputId": "de6b1343-096b-43a0-980a-e312ab96fa15"
      },
      "source": [
        "from sklearn.metrics import mean_squared_error\n",
        "from math import sqrt\n",
        "mse = mean_squared_error(y, yhat)\n",
        "rmse = sqrt(mse)\n",
        "print('RMSE: %f' % rmse)"
      ],
      "execution_count": 23,
      "outputs": [
        {
          "output_type": "stream",
          "text": [
            "RMSE: 0.007505\n"
          ],
          "name": "stdout"
        }
      ]
    },
    {
      "cell_type": "code",
      "metadata": {
        "colab": {
          "base_uri": "https://localhost:8080/",
          "height": 279
        },
        "id": "mACwaDsW0UY4",
        "outputId": "da9fb92b-14b3-4573-b6cc-a8fffe488291"
      },
      "source": [
        "#visualise how the model trains itself\n",
        "import matplotlib\n",
        "import matplotlib.pyplot as plt\n",
        "import seaborn as sns\n",
        "# Create the plot\n",
        "plt.plot(history.history['val_loss'], 'r')\n",
        "plt.xlabel('Epochs')\n",
        "plt.ylabel('Validation score')\n",
        "plt.show()"
      ],
      "execution_count": 24,
      "outputs": [
        {
          "output_type": "display_data",
          "data": {
            "image/png": "[encoded data removed]",
            "text/plain": [
              "<Figure size 432x288 with 1 Axes>"
            ]
          },
          "metadata": {
            "tags": [],
            "needs_background": "light"
          }
        }
      ]
    },
    {
      "cell_type": "code",
      "metadata": {
        "colab": {
          "base_uri": "https://localhost:8080/",
          "height": 296
        },
        "id": "97037RLt0UY4",
        "outputId": "e5d39c95-17af-453e-cfee-cfe88a220b29"
      },
      "source": [
        "# Visualising the results\n",
        "import matplotlib as plt\n",
        "\n",
        "from matplotlib import *\n",
        "import sys\n",
        "import pylab as pl\n",
        "pl.figure( figsize =(12,5) )\n",
        "pl.plot(y, color = 'red', label = 'Real')\n",
        "pl.plot(x.index, yhat, color = 'blue', label = 'Predicted')\n",
        "pl.title(' Forecasting')\n",
        "pl.xlabel('Time')\n",
        "pl.ylabel('Size')\n",
        "pl.legend()\n",
        "pl.show()"
      ],
      "execution_count": 25,
      "outputs": [
        {
          "output_type": "display_data",
          "data": {
            "image/png": "[encoded data removed]",
            "text/plain": [
              "<Figure size 864x360 with 1 Axes>"
            ]
          },
          "metadata": {
            "tags": [],
            "needs_background": "light"
          }
        }
      ]
    },
    {
      "cell_type": "markdown",
      "metadata": {
        "id": "psnL9dfn0UY4"
      },
      "source": [
        "### Evaluating and Concluding"
      ]
    },
    {
      "cell_type": "markdown",
      "metadata": {
        "id": "5RvLK5HG0UY5"
      },
      "source": [
        "This was a valuable experience. I found out that Facebook Prophet has a contraint to input data: two variables only. I Learned details about building ARIMA and LSTM . I did not like Facebook Prophet as it can take only two column features to compute forcasting. It also  is not compatable to my computer as it is a new developing  technology. In m case I would say the winner is ARIMA. Because it really forecasted future in a more readable format and takes as many features as I want. LSTM here only tells the difference between predicted and actual data wich was computed by neural network.  I will continue to research features, advantages, and disadvantages."
      ]
    },
    {
      "cell_type": "code",
      "metadata": {
        "id": "xjAyT48p0UY5"
      },
      "source": [
        ""
      ],
      "execution_count": null,
      "outputs": []
    }
  ]
}